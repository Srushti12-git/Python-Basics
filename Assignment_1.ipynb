{
  "nbformat": 4,
  "nbformat_minor": 0,
  "metadata": {
    "colab": {
      "provenance": [],
      "toc_visible": true
    },
    "kernelspec": {
      "name": "python3",
      "display_name": "Python 3"
    },
    "language_info": {
      "name": "python"
    }
  },
  "cells": [
    {
      "cell_type": "markdown",
      "source": [
        "#Python Basics Questions\n"
      ],
      "metadata": {
        "id": "lNSD6qi8Tj4m"
      }
    },
    {
      "cell_type": "markdown",
      "source": [
        "1.What is Python, and why is it popular?\n",
        "\n",
        "Ans:-Python is a programming language that is easy to understand and write, making it a popular choice among developers and programmers.\n",
        "\n",
        "2.What is an interpreter in Python?\n",
        "\n",
        "Ans:-In Python, an interpreter is the program that executes Python code line by line. It reads the source code, translates it into bytecode, and then executes it.\n",
        "\n",
        "3.What are pre-defined keywords in Python?\n",
        "\n",
        "Ans:\n",
        "\n",
        "\n",
        "*   Keywords are reserved words in Python that have special meanings and cannot be used as identifiers (variable names, function names, etc.).\n",
        "\n",
        "*   Examples of keywords include if, else, while, for, def, class, import, try, except, return, True, False, None, etc.\n",
        "\n",
        "\n",
        "*   Keywords are case-sensitive and cannot be redefined or overridden within a Python program.\n",
        "\n",
        "4. Can keywords be used as variable names?\n",
        "\n",
        "Ans:-No\n",
        "\n",
        "5.What is mutability in Python?\n",
        "\n",
        "Ans:-Mutable objects can be modified after creation.Mutability affects how objects are stored and manipulated in memory, impacting performance, memory usage, and concurrency in Python programs.\n",
        "\n",
        "6. Why are lists mutable, but tuples are immutable?\n",
        "\n",
        "Ans:-\n",
        "\n",
        "1.   Lists are called as mutable objects because\n",
        "\n",
        "*   Use Case:\n",
        "Lists are designed to hold sequences of data that are expected to change. You often need to:\n",
        "\n",
        "i.Add/remove elements\n",
        "\n",
        "ii.Modify values\n",
        "\n",
        "iii.Sort or reverse the list\n",
        "\n",
        "*   Flexibility:\n",
        "Useful for dynamic data structures like stacks, queues, or as containers that will evolve during execution.\n",
        "\n",
        "*   Performance:\n",
        "Mutability avoids creating new copies of the list every time you need a small change, which is efficient in terms of both time and memory.\n",
        "\n",
        "2.   Tuples are called immutable objects because\n",
        "\n",
        "*   Fixed Data:\n",
        "Tuples are intended to represent fixed collections of items — like a record or a coordinate (e.g., (x, y)), where the grouping has a semantic meaning and shouldn't change.\n",
        "\n",
        "*   Hashability:\n",
        "Tuples can be used as keys in dictionaries or stored in sets — but only if all their elements are also immutable. This is possible because they are immutable.\n",
        "\n",
        "*   Safety:\n",
        "Immutability guarantees the data won't change unexpectedly, which is especially important in concurrent or multi-threaded environments.\n",
        "\n",
        "*   Optimization:\n",
        "Since tuples can't change, Python can optimize their storage and access more efficiently than lists.\n",
        "\n",
        "7. What is the difference between “==” and “is” operators in Python?\n",
        "\n",
        "Ans:-== and is are both comparison operators, but they do very different things:\n",
        "\n",
        "1.   == (Equality Operator)\n",
        "\n",
        "*   Checks if two variables have the same value.\n",
        "*   It compares the contents of the objects.\n",
        "\n",
        "2.   is (Identity Operator)\n",
        "\n",
        "*   Checks if two variables point to the same object in memory.\n",
        "*   It compares the object identity, not the contents.\n",
        "\n",
        "8. What are logical operators in Python?\n",
        "\n",
        "Ans:-Logical operators performs logical calculations on two or more values and produces a result based on the truth values of the inputs.\n",
        "Example:\"and\",\"or\",\"not\".\n",
        "\n",
        "9.What is type casting in Python?\n",
        "\n",
        "Ans:-\n",
        "*   Type casting is also referred to as type conversion.\n",
        "*   It is a process of changing one data type to another.\n",
        "\n",
        "10.What is the difference between implicit and explicit type casting?\n",
        "\n",
        "Ans:-\n",
        "1.   Implicit Type Casting (Type Coercion)\n",
        "\n",
        "*   It happens when no data will be lost and the conversion is safe.\n",
        "*   Data loss does not take place.\n",
        "\n",
        "2.   Explicit Type Casting (Type Conversion)\n",
        "\n",
        "*   Programmer manually convert one data type into another using built-in functions or casting methods.\n",
        "*   Data loss may take place here.\n",
        "\n",
        "11. What is the purpose of conditional statements in Python?\n",
        "\n",
        "Ans:-Conditionals in Python are used to execute code based on the evaluation of one or more conditions.\n",
        "\n",
        "12.How does the elif statement work?\n",
        "\n",
        "Ans:-\n",
        "*   The elif keyword stands for \"else if\" in Python\n",
        "*   It is used to check another condition when the previous if condition is false.\n",
        "*   elif is helpful when there are more than two possible choices or conditions to evaluate in a program.\n",
        "\n",
        "13.What is the difference between for and while loops?\n",
        "\n",
        "Ans:-\n",
        "1.\tfor Loop\n",
        "\n",
        "•\tUsed when you know how many times to loop\n",
        "\n",
        "•\tLoops over a sequence (e.g., list, range)\n",
        "\n",
        "•\tBest for counting or iterating over data\n",
        "\n",
        "•\tStops after going through all items\n",
        "\n",
        "2.\twhile loop\n",
        "\n",
        "•\tUsed when you loop until a condition is false\n",
        "\n",
        "•\tLoops as long as a condition is true\n",
        "\n",
        "•\tBest for waiting for a condition to change\n",
        "\n",
        "•\tmust manually change something to stop\n",
        "\n",
        "14. Describe a scenario where a while loop is more suitable than a for loop.\n",
        "Ans:-\n",
        "•\t A while loop is more suitable than a for loop when you don’t know ahead of time how many iterations are needed, and you want to keep looping until a condition is no longer true.\n",
        "\n",
        "•\tThe number of attempts is not fixed.\n",
        "\n",
        "•\tThe loop continues until a certain condition is met.\n",
        "\n",
        "•\tA for loop would be awkward here, since it’s meant for looping over a known range or iterable."
      ],
      "metadata": {
        "id": "RI_FMtO0TqNJ"
      }
    },
    {
      "cell_type": "code",
      "source": [
        "#1. Write a Python program to print \"Hello, World!\"\n",
        "print(\"Hello, World!\")"
      ],
      "metadata": {
        "colab": {
          "base_uri": "https://localhost:8080/"
        },
        "id": "w2HxwgNo0gdc",
        "outputId": "a5ce69b5-e73a-46a8-d2a2-79a2af514aab"
      },
      "execution_count": 1,
      "outputs": [
        {
          "output_type": "stream",
          "name": "stdout",
          "text": [
            "Hello, World!\n"
          ]
        }
      ]
    },
    {
      "cell_type": "code",
      "source": [
        "#2. Write a Python program that displays your name and age\n",
        "name=input(\"Enter your name:\")\n",
        "age=int(input(\"Enter your age:\"))\n",
        "print(\"Name:\",name)\n",
        "print(\"Age:\",age)"
      ],
      "metadata": {
        "colab": {
          "base_uri": "https://localhost:8080/"
        },
        "id": "mmPrjgu_0thY",
        "outputId": "a24e349a-5e8a-4961-df8a-875245695e70"
      },
      "execution_count": 2,
      "outputs": [
        {
          "output_type": "stream",
          "name": "stdout",
          "text": [
            "Enter your name:Srushti\n",
            "Enter your age:23\n",
            "Name: Srushti\n",
            "Age: 23\n"
          ]
        }
      ]
    },
    {
      "cell_type": "code",
      "source": [
        "#3.Write code to print all the pre-defined keywords in Python using the keyword library.\n",
        "help('keywords')"
      ],
      "metadata": {
        "colab": {
          "base_uri": "https://localhost:8080/"
        },
        "id": "8jUViSC506PU",
        "outputId": "25797d85-10ff-48e3-86fa-ce1684e91539"
      },
      "execution_count": 7,
      "outputs": [
        {
          "output_type": "stream",
          "name": "stdout",
          "text": [
            "\n",
            "Here is a list of the Python keywords.  Enter any keyword to get more help.\n",
            "\n",
            "False               class               from                or\n",
            "None                continue            global              pass\n",
            "True                def                 if                  raise\n",
            "and                 del                 import              return\n",
            "as                  elif                in                  try\n",
            "assert              else                is                  while\n",
            "async               except              lambda              with\n",
            "await               finally             nonlocal            yield\n",
            "break               for                 not                 \n",
            "\n"
          ]
        }
      ]
    },
    {
      "cell_type": "code",
      "source": [
        "#4. Write a program that checks if a given word is a Python keyword.\n",
        "import keyword\n",
        "word=input(\"Enter a word:\")\n",
        "if keyword.iskeyword(word):\n",
        "  print(word,\"is a keyword\")\n",
        "else:\n",
        "  print(word,\"is not a keyword\")"
      ],
      "metadata": {
        "colab": {
          "base_uri": "https://localhost:8080/"
        },
        "id": "dlbspU9o2RJy",
        "outputId": "c61938ef-79d1-4509-86e4-9ae13e5834d7"
      },
      "execution_count": 8,
      "outputs": [
        {
          "output_type": "stream",
          "name": "stdout",
          "text": [
            "Enter a word:for\n",
            "for is a keyword\n"
          ]
        }
      ]
    },
    {
      "cell_type": "code",
      "source": [
        "#5. Create a list and tuple in Python, and demonstrate how attempting to change an element works differently for each.\n",
        "#creation of list\n",
        "list_ele=[1,2,3]\n",
        "#modifying the element\n",
        "list_ele[1]=\"string\"\n",
        "print(list_ele)\n",
        "\n",
        "#creation of tuple\n",
        "tuple_ele=(1,2,3)\n",
        "#tuple_ele[1]=\"string\"->trying to modify the element\n",
        "print(tuple_ele)"
      ],
      "metadata": {
        "colab": {
          "base_uri": "https://localhost:8080/"
        },
        "id": "ZQH_4UVE2_dy",
        "outputId": "4bf0dca5-6d9f-4dd5-9a19-9db0308e287a"
      },
      "execution_count": 11,
      "outputs": [
        {
          "output_type": "stream",
          "name": "stdout",
          "text": [
            "[1, 'string', 3]\n",
            "(1, 2, 3)\n"
          ]
        }
      ]
    },
    {
      "cell_type": "code",
      "source": [
        "#6. Write a function to demonstrate the behavior of mutable and immutable arguments.\n",
        "def mutable_immutable(mutable_arg,immutable_arg):\n",
        "  print(\"Before modification\")\n",
        "  print(f\"Mutable argument :-{mutable_arg}\")\n",
        "  print(f\"Immutable argument :-{immutable_arg}\")\n",
        "  mutable_arg.append(4)\n",
        "  #immutable_arg.append(10)\n",
        "  #the immutable values cannot be changed\n",
        "  print(\"After modification\")\n",
        "  print(f\"Mutable argument :-{mutable_arg}\")\n",
        "  print(f\"Immutable argument :-{immutable_arg}\")\n",
        "  print(\"Hence mutable_arg is changed \")\n",
        "\n",
        "x=(1,2,3)\n",
        "\n",
        "y=[1,2,3]\n",
        "\n",
        "mutable_immutable(y,x)\n"
      ],
      "metadata": {
        "colab": {
          "base_uri": "https://localhost:8080/"
        },
        "id": "xegRHVAS4oHl",
        "outputId": "09b5324c-a3f1-47ae-dd6f-c1a1b2da78b0"
      },
      "execution_count": 16,
      "outputs": [
        {
          "output_type": "stream",
          "name": "stdout",
          "text": [
            "Before modification\n",
            "Mutable argument :-[1, 2, 3]\n",
            "Immutable argument :-(1, 2, 3)\n",
            "After modification\n",
            "Mutable argument :-[1, 2, 3, 4]\n",
            "Immutable argument :-(1, 2, 3)\n",
            "Hence mutable_arg is changed \n"
          ]
        }
      ]
    },
    {
      "cell_type": "code",
      "source": [
        "#7. Write a program that performs basic arithmetic operations on two user-input numbers.\n",
        "a=int(input(\"Enter first number:\"))\n",
        "b=int(input(\"Enter second number:\"))\n",
        "print(\"Addition:\",a+b)\n",
        "print(\"Subtraction:\",a-b)\n",
        "print(\"Multiplication:\",a*b)\n",
        "print(\"Division:\",a/b)"
      ],
      "metadata": {
        "colab": {
          "base_uri": "https://localhost:8080/"
        },
        "id": "NKbZh4Yk9FCR",
        "outputId": "5a75dfcb-6fd4-43a3-8e53-65a54f920273"
      },
      "execution_count": 20,
      "outputs": [
        {
          "output_type": "stream",
          "name": "stdout",
          "text": [
            "Enter first number:4\n",
            "Enter second number:2\n",
            "Addition: 6\n",
            "Subtraction: 2\n",
            "Multiplication: 8\n",
            "Division: 2.0\n"
          ]
        }
      ]
    },
    {
      "cell_type": "code",
      "source": [
        "#8. Write a program to demonstrate the use of logical operators\n",
        "a=int(input(\"Enter first number:\"))\n",
        "b=int(input(\"Enter second number:\"))\n",
        "print(\"AND:\",a and b)\n",
        "print(\"OR:\",a or b)\n",
        "print(\"NOT:\",not a)"
      ],
      "metadata": {
        "colab": {
          "base_uri": "https://localhost:8080/"
        },
        "id": "P2arWCaK9Lo6",
        "outputId": "76dd5208-cd7a-4443-dc98-86fc11d01205"
      },
      "execution_count": 23,
      "outputs": [
        {
          "output_type": "stream",
          "name": "stdout",
          "text": [
            "Enter first number:0\n",
            "Enter second number:7\n",
            "AND: 0\n",
            "OR: 7\n",
            "NOT: True\n"
          ]
        }
      ]
    },
    {
      "cell_type": "code",
      "source": [
        "#9. Write a Python program to convert user input from string to integer, float, and boolean types.\n",
        "element=input(\"Enter a value:\")\n",
        "if element.isdigit():\n",
        "  print(int(element))\n",
        "  print(float(element))\n",
        "  print(bool(element))\n",
        "else:\n",
        "  print(\"Invalid argument\")"
      ],
      "metadata": {
        "colab": {
          "base_uri": "https://localhost:8080/"
        },
        "id": "s4ZxTrCx-hlx",
        "outputId": "4ba2d3b0-cb8d-4751-a6a6-0d633e55e53d"
      },
      "execution_count": 27,
      "outputs": [
        {
          "output_type": "stream",
          "name": "stdout",
          "text": [
            "Enter a value:56\n",
            "56\n",
            "56.0\n",
            "True\n"
          ]
        }
      ]
    },
    {
      "cell_type": "code",
      "source": [
        "#10. Write code to demonstrate type casting with list elements.\n",
        "def demonstrate_list_type_casting():\n",
        "    # Original lists\n",
        "    str_numbers = ['10', '20', '30']\n",
        "    float_numbers = [1.5, 2.8, 3.0]\n",
        "    int_numbers = [100, 200, 300]\n",
        "\n",
        "    # Casting str to int\n",
        "    int_from_str=[int(num) for num in str_numbers]\n",
        "    print(\"String to Integer Casting:\")\n",
        "    print(int_from_str)\n",
        "\n",
        "    # Casting float to int\n",
        "    int_from_float=[int(num) for num in float_numbers]\n",
        "    print(\"Float to Integer Casting:\")\n",
        "    print(int_from_float)\n",
        "\n",
        "    # Casting int to str\n",
        "    str_from_int=[str(num) for num in int_numbers]\n",
        "    print(\"Integer to String Casting:\")\n",
        "    print(str_from_int)\n",
        "\n",
        "    #Casting float to str\n",
        "    str_from_float=[str(num) for num in float_numbers]\n",
        "    print(\"Float to String Casting:\")\n",
        "    print(str_from_float)\n",
        "\n",
        "    #Casting int to float\n",
        "    float_from_int=[float(num) for num in int_numbers]\n",
        "    print(\"Integer to Float Casting:\")\n",
        "    print(float_from_int)\n",
        "\n",
        "    #Casting str to float\n",
        "    float_from_str=[float(num) for num in str_numbers]\n",
        "    print(\"String to Float Casting:\")\n",
        "    print(float_from_str)\n",
        "\n",
        "if __name__ == \"__main__\":\n",
        "    demonstrate_list_type_casting()\n"
      ],
      "metadata": {
        "colab": {
          "base_uri": "https://localhost:8080/"
        },
        "id": "9Ds0laMJ_aqr",
        "outputId": "0e0c30bb-8ded-4375-b3c6-bfe8ae02110d"
      },
      "execution_count": 1,
      "outputs": [
        {
          "output_type": "stream",
          "name": "stdout",
          "text": [
            "String to Integer Casting:\n",
            "[10, 20, 30]\n",
            "Float to Integer Casting:\n",
            "[1, 2, 3]\n",
            "Integer to String Casting:\n",
            "['100', '200', '300']\n",
            "Float to String Casting:\n",
            "['1.5', '2.8', '3.0']\n",
            "Integer to Float Casting:\n",
            "[100.0, 200.0, 300.0]\n",
            "String to Float Casting:\n",
            "[10.0, 20.0, 30.0]\n"
          ]
        }
      ]
    },
    {
      "cell_type": "code",
      "source": [
        "#11. Write a program that checks if a number is positive, negative, or zero.\n",
        "num=int(input(\"Enter a number:\"))\n",
        "if num>0:\n",
        "  print(\"Positive\")\n",
        "elif num<0:\n",
        "  print(\"Negative\")\n",
        "else:\n",
        "  print(\"Zero\")"
      ],
      "metadata": {
        "colab": {
          "base_uri": "https://localhost:8080/"
        },
        "id": "dYVuwd80aUaW",
        "outputId": "d2120ae0-b898-45b9-edc9-4f2aae0a2f9b"
      },
      "execution_count": 2,
      "outputs": [
        {
          "output_type": "stream",
          "name": "stdout",
          "text": [
            "Enter a number:45\n",
            "Positive\n"
          ]
        }
      ]
    },
    {
      "cell_type": "code",
      "source": [
        "#12. Write a for loop to print numbers from 1 to 10\n",
        "for i in range(1,11):\n",
        "  print(i)"
      ],
      "metadata": {
        "colab": {
          "base_uri": "https://localhost:8080/"
        },
        "id": "2dz86iA7amon",
        "outputId": "38016ebd-1afb-4325-9da4-03ee63806428"
      },
      "execution_count": 3,
      "outputs": [
        {
          "output_type": "stream",
          "name": "stdout",
          "text": [
            "1\n",
            "2\n",
            "3\n",
            "4\n",
            "5\n",
            "6\n",
            "7\n",
            "8\n",
            "9\n",
            "10\n"
          ]
        }
      ]
    },
    {
      "cell_type": "code",
      "source": [
        "#13. Write a Python program to find the sum of all even numbers between 1 and 50.\n",
        "sum=0\n",
        "for i in range(1,51):\n",
        "  if(i%2==0):\n",
        "    sum+=i\n",
        "print(sum)"
      ],
      "metadata": {
        "colab": {
          "base_uri": "https://localhost:8080/"
        },
        "id": "ULZ4ZLNtbHp0",
        "outputId": "a1133843-f53c-4445-a42f-c2d3e1f8b370"
      },
      "execution_count": 4,
      "outputs": [
        {
          "output_type": "stream",
          "name": "stdout",
          "text": [
            "650\n"
          ]
        }
      ]
    },
    {
      "cell_type": "code",
      "source": [
        "#14. Write a program to reverse a string using a while loop\n",
        "input_string='Ajay'\n",
        "reversed_str=''\n",
        "while(len(input_string)-1>=0):\n",
        "  reversed_str+=input_string[-1]\n",
        "  input_string=input_string[:-1]\n",
        "print(reversed_str)"
      ],
      "metadata": {
        "colab": {
          "base_uri": "https://localhost:8080/"
        },
        "id": "ZK9uGvwjbnlQ",
        "outputId": "41d0a81d-323a-4233-b140-484af67ec100"
      },
      "execution_count": 5,
      "outputs": [
        {
          "output_type": "stream",
          "name": "stdout",
          "text": [
            "yajA\n"
          ]
        }
      ]
    },
    {
      "cell_type": "code",
      "source": [
        "#15. Write a Python program to calculate the factorial of a number provided by the user using a while loop.\n",
        "n=int(input(\"Enter a number\"))\n",
        "result=1\n",
        "while(n>0):\n",
        "  result=result * n\n",
        "  n-=1\n",
        "print(result)"
      ],
      "metadata": {
        "colab": {
          "base_uri": "https://localhost:8080/"
        },
        "id": "aGZW0Mg7dptA",
        "outputId": "8254b8c2-4667-4c5c-e195-bef1a6faccc6"
      },
      "execution_count": 7,
      "outputs": [
        {
          "output_type": "stream",
          "name": "stdout",
          "text": [
            "Enter a number3\n",
            "6\n"
          ]
        }
      ]
    }
  ]
}