{
  "nbformat": 4,
  "nbformat_minor": 0,
  "metadata": {
    "colab": {
      "provenance": []
    },
    "kernelspec": {
      "name": "python3",
      "display_name": "Python 3"
    },
    "language_info": {
      "name": "python"
    }
  },
  "cells": [
    {
      "cell_type": "markdown",
      "source": [
        "\n",
        "\n",
        "# Data Types and Structures Questions\n"
      ],
      "metadata": {
        "id": "aIFcFu4RQYrb"
      }
    },
    {
      "cell_type": "markdown",
      "source": [
        "1.What are data structures, and why are they important?\n",
        "Ans:-Data structures\n",
        "*   Data structures are specialized formats for organizing, storing, and accessing collections of data. They provide efficient ways to manage information based on its characteristics and intended use.\n",
        "*   Think of them as containers that hold your data and determine how you can interact with it. Different containers are better suited for different types of items..\n",
        " Importance of data structures\n",
        "*   Choosing the right data structure significantly impacts the efficiency and performance of your program.\n",
        "*   Well-chosen data structures can:\n",
        "*   Simplify data manipulation (adding, removing, modifying elements)\n",
        "*   Optimize searching and sorting operations\n",
        "*   Conserve memory usage\n",
        "2. Explain the difference between mutable and immutable data types with examples\n",
        "\n",
        "Ans:\n",
        "1.   Mutable datatypes\n",
        "*  Mutable datatypes are the objects/container whose state or value can be changed after they are created.\n",
        "*   Mutability affects how objects are stored and manipulated in memory, impacting performance, memory usage, and concurrency in Python programs.\n",
        "*   Eg: List,Dictionaries\n",
        "\n",
        "2.   Immutable datatypes\n",
        "*   Immutable objects are the one objects/container whose state or value can not be changed after they are created.\n",
        "*   Eg:Tuples,Strings\n",
        "\n",
        "3. What are the main differences between lists and tuples in Python?\n",
        "\n",
        "Ans:-\n",
        "1.   List\n",
        "*   are mutable\n",
        "*   Defined with square brackets [].\n",
        "*   Slower than tuples (due to mutability).\n",
        "*   More method (e.g., append(), remove()) are used.\n",
        "*   Suitable for data that changes.\n",
        "*   Uses more memory\n",
        "*    Not hashable.\n",
        "\n",
        "2.   Tuples\n",
        "*    Immutable (cannot be changed).\n",
        "*   Defined with parentheses ().\n",
        "*   Faster than list(optimized for immutability).\n",
        "*   Method like append(), remove() are not used.\n",
        "*   Suitable for fixed data (e.g., coordinates, constants).\n",
        "*   Uses less memory\n",
        "*   Hashable.\n",
        "\n",
        "4. Describe how dictionaries store data.\n",
        "\n",
        "Ans:-\n",
        "1.   Key-Value Pair Storage\n",
        "Each entry in a dictionary has:\n",
        "*   A key (must be immutable, like a string, number, or tuple)\n",
        "*   A value (can be any data type)\n",
        "2.   Hashing the Key\n",
        "*   Python uses a built-in hash() function to convert the key into a hash value (a number).\n",
        "*   This hash value determines where the value is stored in memory.\n",
        "3.   Indexing in a Hash Table\n",
        "*   The hash value is mapped to an index in an internal array.\n",
        "*   This allows fast access, typically in constant time: O(1).\n",
        "4.   Handling Collisions\n",
        "*   Sometimes, two keys may produce the same index (collision).\n",
        "*   Python handles this using open addressing or chaining (techniques to resolve hash conflicts).\n",
        "5.   Efficient Lookups and Updates\n",
        "*   Since keys are hashed, looking up or updating a value by key is very efficient.\n",
        "\n",
        "5. Why might you use a set instead of a list in Python?\n",
        "\n",
        "Ans:\n",
        "*   Set automatically removes duplicates whereas, list allows duplicates.\n",
        "*   Membership testing is faster in a set; it takes average time complexity of O(1). In contrast, membership testing in a list takes O(n) time.  \n",
        "*  Set operations like union, intersection, and difference are built-in and fast in sets, whereas performing similar operations with lists requires extra code and is generally slower.\n",
        "*   For large collections of unique items, sets are more memory-efficient than lists, which tend to use more memory due to storing additional metadata and allowing duplicates.\n",
        "\n",
        "6. What is a string in Python, and how is it different from a list?\n",
        "\n",
        "Ans:\n",
        "1.   String\n",
        "*   A string in Python is a sequence of characters enclosed within quotes.\n",
        "*   It can be enclosed in single ('), double (\"), or triple quotes (''' or \"\"\").\n",
        "*   Strings are immutable, meaning once created, they cannot be\n",
        "changed.\n",
        "*   Syntax for string:\"Hello\" or 'Hello'.\n",
        "2.   List\n",
        "*   A list in Python is a collection of items (which can be of any type) enclosed in square brackets ([]).\n",
        "*   Lists are mutable, meaning the contents can be modified (add, remove, or change elements).\n",
        "*   Syntax:-[1, 2, \"Hello\"].\n",
        "\n",
        "7. How do tuples ensure data integrity in Python?\n",
        "\n",
        "Ans:\n",
        "1.   Immutability\n",
        "*   Once a tuple is created, you cannot modify, add, or remove its elements.\n",
        "*   This prevents accidental changes to important or constant data.\n",
        "2.   Safe for Fixed Data\n",
        "*   Ideal for fixed collections of data (like coordinates, configuration, or constants).\n",
        "3.   Hashable (if elements are hashable)\n",
        "*   Tuples can be used as dictionary keys or in sets, which rely on data not changing.\n",
        "4.   Reliable in Shared Data\n",
        "*   In multi-threaded or multi-function code, you can pass a tuple knowing no part of your program can accidentally or intentionally modify it.\n",
        "\n",
        "8. What is a hash table, and how does it relate to dictionaries in Python?\n",
        "\n",
        "Ans:-\n",
        "->  A hash table is a structure for storing key-value pairs.\n",
        "\n",
        "->  It uses a hash function to convert keys into indexes.\n",
        "\n",
        "->  Python dictionaries are built on hash tables.\n",
        "\n",
        "->  They allow fast insert, lookup, and update operations.\n",
        "\n",
        "->  Collisions are handled internally, so dictionaries remain efficient.\n",
        "\n",
        "9. Can lists contain different data types in Python?\n",
        "\n",
        "Ans:-Yes\n",
        "\n",
        "10. Explain why strings are immutable in Python?\n",
        "\n",
        "Ans:-Strings are immutable in Python because:\n",
        "1.   Memory Efficiency & Performance:-\n",
        "*   Strings are heavily reused in programs (e.g., variable names, keys, messages).\n",
        "*   Python stores identical strings in the same memory location (called string interning).\n",
        "*   If strings were mutable, one change could affect multiple variables referencing the same string — which would be dangerous and inefficient.\n",
        "\n",
        "2.   Hashability\n",
        "*   Strings are used as keys in dictionaries (dict), and keys must be hashable (i.e., fixed once created).\n",
        "*   If a string could change, its hash value would change, making it impossible to reliably retrieve the value from the dictionary.\n",
        "\n",
        "3.    Security and Safety\n",
        "*   Making strings immutable prevents bugs where data is accidentally changed.\n",
        "*   Especially important in multi-threaded environments, where multiple parts of a program may access the same data.\n",
        "\n",
        "4.   Simplicity in Language Design\n",
        "*   Immutable strings simplify the implementation of language internals (like memory management, caching, optimization).\n",
        "11. What advantages do dictionaries offer over lists for certain tasks?\n",
        "\n",
        "Ans:-\n",
        "->  Fast Lookup by Key\n",
        "Dictionaries allow you to access values quickly using their keys. This is because they use a hash table internally, giving them an average time complexity of O(1) for lookups. For example, accessing student[\"name\"] is much faster than searching through a list to find a particular value.\n",
        "\n",
        "->  Meaningful Keys\n",
        "In dictionaries, you use descriptive keys instead of numeric indexes, which makes the data more readable and understandable. For instance, {\"name\": \"Asha\"} is much clearer than [\"Asha\"] because the key adds context.\n",
        "\n",
        "->  No Need to Remember Index\n",
        "With lists, you must remember which index holds which type of data. In contrast, dictionaries let you use labels like \"age\" or \"grade\", so instead of writing data[1], you can write data[\"age\"], which is more intuitive and less error-prone.\n",
        "\n",
        "->  Flexible Data Structure\n",
        "Dictionaries support more complex and structured data. You can nest lists, other dictionaries, or any data type inside them, making them suitable for representing real-world records. For example, a dictionary like {\"id\": 1, \"scores\": [90, 85, 88]} is easy to understand and extend.\n",
        "\n",
        "->  Easy to Update or Delete\n",
        "It's simple to update or remove items in a dictionary by using the key. For instance, updating a value is as easy as student[\"grade\"] = \"A+\", and removing it takes just del student[\"grade\"].\n",
        "\n",
        "12. Describe a scenario where using a tuple would be preferable over a list.\n",
        "Ans:-\n",
        "\n",
        "*   Scenario: Representing a Geographic Coordinate\n",
        "GPS coordinates:- Each coordinate is a pair of latitude and longitude, and this data should never be modified accidentally.\n",
        "Why a Tuple is Better Than a List Here:\n",
        "*   Example with Tuple:\n",
        "location = (28.6139, 77.2090)  # (latitude, longitude)\n",
        "The coordinate is fixed for that location.\n",
        "\n",
        "Using a tuple ensures the values can’t be changed, which preserves data integrity.\n",
        "\n",
        "*   Example with List (Not Preferred):\n",
        "location = [28.6139, 77.2090]\n",
        "location[0] = 0  # Someone could accidentally change the latitude!\n",
        "*   Benefits of Using a Tuple in This Case:\n",
        "i.Immutability: Protects the data from accidental changes.\n",
        "\n",
        "ii.Clarity: Shows that the coordinate is a fixed-size, fixed-order pair.\n",
        "\n",
        "iii.Hashable: You can use it as a key in a dictionary (e.g., for location lookups).\n",
        "\n",
        "*   A tuple is preferred over a list when the data represents a fixed and unchangeable group of values. Since tuples are immutable, they help maintain data integrity. Common examples include representing a GPS coordinate, an RGB color value, or a configuration setting, where the values should remain constant throughout the program.\n",
        "\n",
        "13. How do sets handle duplicate values in Python?\n",
        "\n",
        "Ans:-\n",
        "*   Sets automatically remove duplicates and ensure that all elements are unique, making them ideal for tasks like filtering duplicates or membership checks.\n",
        "*   Sets are unordered collections of unique elements.\n",
        "*   If a duplicate value is added to a set in Python, it is automatically ignored without raising any error.\n",
        "*   The set retains only one copy of each unique element.\n",
        "\n",
        "14. How does the “in” keyword work differently for lists and dictionaries?\n",
        "\n",
        "Ans:- The in keyword is used to check for the presence of an item, but it behaves differently in lists and dictionaries:  \n",
        "*   In lists, in checks whether a value exists in the list.\n",
        "Example:\n",
        "fruits = [\"apple\", \"banana\"]  \n",
        "\"apple\" in fruits ->This returns true\n",
        "\n",
        "*   In dictionaries, in checks whether a key exists in the dictionary, not the value.\n",
        "Example:\n",
        "student = {\"name\": \"Ravi\", \"age\": 20}  \n",
        "\"name\" in student This returns True  \n",
        "\"Ravi\" in student This returns False\n",
        "To check if a value exists in a dictionary,we must use:\n",
        "\"Ravi\" in student.values()  This returns True\n",
        "\n",
        "*   in checks values in a list.\n",
        "\n",
        "*   in checks keys in a dictionary.\n",
        "\n",
        "15. Can you modify the elements of a tuple? Explain why or why not?\n",
        "\n",
        "Ans:-No, you cannot modify the elements of a tuple in Python.\n",
        "Tuples are immutable, which means that once a tuple is created, its elements cannot be changed, added, or removed. This immutability ensures data integrity and makes tuples useful for representing fixed collections of values, such as coordinates, configuration settings, or constant data.\n",
        "\n",
        "16. What is a nested dictionary, and give an example of its use case.\n",
        "\n",
        "Ans:-A nested dictionary in Python is a dictionary where values themselves are dictionaries. It allows you to organize data in a hierarchical or structured way.\n",
        "\n",
        "Usecase example\n",
        "Use Case: Student Management System\n",
        "\n",
        "Suppose we are building a school system that stores student records. Each student can have multiple attributes like grades, attendance, and contact info — making a nested dictionary a perfect fit.\n",
        "school = {\n",
        "    \"1001\": {\n",
        "        \"name\": \"Alice\",\n",
        "        \"grades\": {\"math\": 90, \"science\": 85}\n",
        "    },\n",
        "    \"1002\": {\n",
        "        \"name\": \"Bob\",\n",
        "        \"grades\": {\"math\": 78, \"science\": 88}\n",
        "    }\n",
        "}\n",
        "school[\"1002\"][\"grades\"][\"science\"]  # Output: 88\n",
        "This way we can access easily\n",
        "\n",
        "17. Describe the time complexity of accessing elements in a dictionary.\n",
        "\n",
        "Ans:-\n",
        "*   Average Case: O(1) (constant time)\n",
        "Accessing an element using a key is very fast because the key is hashed and used to find the value directly.\n",
        "*   Worst Case: O(n) (very rare)\n",
        "This can happen if many keys have the same hash (hash collisions), but Python handles this efficiently in most cases.\n",
        "\n",
        "18. In what situations are lists preferred over dictionaries?\n",
        "\n",
        "Ans:-\n",
        "-> Order Matters\n",
        "Lists maintain the insertion order and are ideal when the order of elements is important.\n",
        "Example: Storing steps in a recipe or sequence of actions:\n",
        "steps = [\"Chop vegetables\", \"Boil water\", \"Add pasta\"]\n",
        "\n",
        "->  Only Values are needed (No Key-Value Pairs)\n",
        "If you don’t need to label the data with a key, a list is simpler and easier.\n",
        "Example: Storing names of students:\n",
        "students = [\"Alice\", \"Bob\", \"Charlie\"]\n",
        "\n",
        "-> Need to Access Items by Position (Indexing)\n",
        "Lists allow access using integer indexes, which is useful when position matters.\n",
        "Example:\n",
        "fruits = [\"apple\", \"banana\", \"cherry\"]\n",
        "print(fruits[1])  # Output: banana\n",
        "\n",
        "-> Perform Iteration or Sorting Frequently\n",
        "Lists are preferred when you need to loop over items or sort them easily.\n",
        "Example:\n",
        "numbers = [5, 2, 9, 1]\n",
        "numbers.sort()\n",
        "\n",
        "19. Why are dictionaries considered unordered, and how does that affect data retrieval?\n",
        "\n",
        "Ans:-\n",
        "Before Python version 3.7, dictionaries did not guarantee the order in which key-value pairs were stored. Even though newer versions preserve insertion order, dictionaries are still considered logically unordered because:\n",
        "*   They are designed for fast key-based lookup, not for maintaining order.\n",
        "*   The order of elements should not be relied on when writing general-purpose code.\n",
        "\n",
        " It Affects Data Retrieval\n",
        "*   No Positional Access: You can't access items by index like you can in a list (e.g., my_dict[0] is invalid).\n",
        "*   Access by Key Only: You must retrieve data using a key (e.g., my_dict[\"name\"]).\n",
        "*   Iteration Order (Pre-3.7): The order of items when looping through a dictionary was unpredictable.\n",
        "\n",
        "20. Explain the difference between a list and a dictionary in terms of data retrieval.\n",
        "\n",
        "Ans:-\n",
        "-> List:\n",
        "*   A list stores items in a specific order.\n",
        "*   We retrieve data using an index (a number that shows the position).\n",
        "*   Indexing starts from 0.\n",
        "*   Example:\n",
        "fruits = [\"apple\", \"banana\", \"cherry\"]\n",
        "print(fruits[1])  # Output: banana\n",
        "*   Data is retrieved by position.\n",
        "->Dictionary:\n",
        "*   A dictionary stores key-value pairs.\n",
        "*   We retrieve data using a key, not a position.\n",
        "*   Keys are usually strings or numbers.\n",
        "*   Example:\n",
        "student = {\"name\": \"Alice\", \"age\": 17}\n",
        "print(student[\"age\"])  # Output: 17\n",
        "*   Data is retrieved by a key.\n",
        "\n"
      ],
      "metadata": {
        "id": "lifH9ZK_QrY2"
      }
    },
    {
      "cell_type": "markdown",
      "source": [
        "Practical Questions"
      ],
      "metadata": {
        "id": "92bWYUICrpq5"
      }
    },
    {
      "cell_type": "code",
      "source": [
        "#1. Write a code to create a string with your name and print it.\n",
        "name=input(\"Enter your name:- \")\n",
        "print(name)"
      ],
      "metadata": {
        "colab": {
          "base_uri": "https://localhost:8080/"
        },
        "id": "UXMH4-Dxr9uK",
        "outputId": "127b52aa-c98b-41a6-c69c-e7d301dc1db0"
      },
      "execution_count": null,
      "outputs": [
        {
          "output_type": "stream",
          "name": "stdout",
          "text": [
            "Enter your name:- Srushti\n",
            "Srushti\n"
          ]
        }
      ]
    },
    {
      "cell_type": "code",
      "source": [
        "#2.Write a code to find the length of the string \"Hello World\".\n",
        "word=\"Hello World\"\n",
        "len(word)"
      ],
      "metadata": {
        "colab": {
          "base_uri": "https://localhost:8080/"
        },
        "id": "zDrxhySNseWG",
        "outputId": "8f12f6e3-b70a-47a9-dbf9-0463e19d882f"
      },
      "execution_count": null,
      "outputs": [
        {
          "output_type": "execute_result",
          "data": {
            "text/plain": [
              "11"
            ]
          },
          "metadata": {},
          "execution_count": 4
        }
      ]
    },
    {
      "cell_type": "code",
      "source": [
        "#3. Write a code to slice the first 3 characters from the string \"Python Programming\"\n",
        "word=\"Python Programming\"\n",
        "word[0:3]"
      ],
      "metadata": {
        "colab": {
          "base_uri": "https://localhost:8080/",
          "height": 36
        },
        "id": "lvthj1OWtlCl",
        "outputId": "8a8e7ab0-e9a9-4743-e2bf-2e1d75d09321"
      },
      "execution_count": null,
      "outputs": [
        {
          "output_type": "execute_result",
          "data": {
            "text/plain": [
              "'Pyt'"
            ],
            "application/vnd.google.colaboratory.intrinsic+json": {
              "type": "string"
            }
          },
          "metadata": {},
          "execution_count": 5
        }
      ]
    },
    {
      "cell_type": "code",
      "source": [
        "#4.Write a code to convert the string \"hello\" to uppercase.\n",
        "word=\"hello\"\n",
        "word.upper()"
      ],
      "metadata": {
        "colab": {
          "base_uri": "https://localhost:8080/",
          "height": 36
        },
        "id": "SzEl7CAAt488",
        "outputId": "0835958b-48f6-439a-b846-2c600a6648e4"
      },
      "execution_count": null,
      "outputs": [
        {
          "output_type": "execute_result",
          "data": {
            "text/plain": [
              "'HELLO'"
            ],
            "application/vnd.google.colaboratory.intrinsic+json": {
              "type": "string"
            }
          },
          "metadata": {},
          "execution_count": 6
        }
      ]
    },
    {
      "cell_type": "code",
      "source": [
        "#5.Write a code to replace the word \"apple\" with \"orange\" in the string \"I like apple\".\n",
        "str1=\"I like apple\"\n",
        "str1.replace(\"apple\",\"orange\")"
      ],
      "metadata": {
        "colab": {
          "base_uri": "https://localhost:8080/",
          "height": 36
        },
        "id": "FcsYIarVuK96",
        "outputId": "4636da47-ea88-4032-989d-d9f663971727"
      },
      "execution_count": null,
      "outputs": [
        {
          "output_type": "execute_result",
          "data": {
            "text/plain": [
              "'I like orange'"
            ],
            "application/vnd.google.colaboratory.intrinsic+json": {
              "type": "string"
            }
          },
          "metadata": {},
          "execution_count": 7
        }
      ]
    },
    {
      "cell_type": "code",
      "source": [
        "#6. Write a code to create a list with numbers 1 to 5 and print it.\n",
        "list1=[1,2,3,4,5]\n",
        "print(list1)"
      ],
      "metadata": {
        "id": "jI-kQ0QrptDp",
        "colab": {
          "base_uri": "https://localhost:8080/"
        },
        "outputId": "53b0413d-f11f-42a2-82f3-dc970ce363e1"
      },
      "execution_count": null,
      "outputs": [
        {
          "output_type": "stream",
          "name": "stdout",
          "text": [
            "[1, 2, 3, 4, 5]\n"
          ]
        }
      ]
    },
    {
      "cell_type": "code",
      "source": [
        "#7. Write a code to append the number 10 to the list [1, 2, 3, 4].\n",
        "list1=[1,2,3,4]\n",
        "list1.append(10)\n",
        "list1"
      ],
      "metadata": {
        "colab": {
          "base_uri": "https://localhost:8080/"
        },
        "id": "b8ixAXoQBfqa",
        "outputId": "d733851e-8e2b-428e-b217-2c21fc90f75a"
      },
      "execution_count": null,
      "outputs": [
        {
          "output_type": "execute_result",
          "data": {
            "text/plain": [
              "[1, 2, 3, 4, 10]"
            ]
          },
          "metadata": {},
          "execution_count": 2
        }
      ]
    },
    {
      "cell_type": "code",
      "source": [
        "#8. Write a code to remove the number 3 from the list [1, 2, 3, 4, 5].\n",
        "list2=[1,2,3,4,5]\n",
        "list2.remove(3)\n",
        "list2"
      ],
      "metadata": {
        "colab": {
          "base_uri": "https://localhost:8080/"
        },
        "id": "sfoaMlY0BwDN",
        "outputId": "eb8979bb-fabf-4859-ae03-9367775a920b"
      },
      "execution_count": null,
      "outputs": [
        {
          "output_type": "execute_result",
          "data": {
            "text/plain": [
              "[1, 2, 4, 5]"
            ]
          },
          "metadata": {},
          "execution_count": 3
        }
      ]
    },
    {
      "cell_type": "code",
      "source": [
        "#9. Write a code to access the second element in the list ['a', 'b', 'c', 'd'].\n",
        "list3=['a','b','c','d']\n",
        "list3[1]"
      ],
      "metadata": {
        "colab": {
          "base_uri": "https://localhost:8080/",
          "height": 36
        },
        "id": "C37CdzVeTzP5",
        "outputId": "fa7e7de7-aa08-492b-e323-26add0e254f3"
      },
      "execution_count": null,
      "outputs": [
        {
          "output_type": "execute_result",
          "data": {
            "text/plain": [
              "'b'"
            ],
            "application/vnd.google.colaboratory.intrinsic+json": {
              "type": "string"
            }
          },
          "metadata": {},
          "execution_count": 4
        }
      ]
    },
    {
      "cell_type": "code",
      "source": [
        "#10. Write a code to reverse the list [10, 20, 30, 40, 50].\n",
        "list4=[10,20,30,40,50]\n",
        "list4.reverse()\n",
        "list4"
      ],
      "metadata": {
        "colab": {
          "base_uri": "https://localhost:8080/"
        },
        "id": "35CBjwt6UVxV",
        "outputId": "d85da1b1-ce3c-443d-e2f1-5192c32c88b9"
      },
      "execution_count": null,
      "outputs": [
        {
          "output_type": "execute_result",
          "data": {
            "text/plain": [
              "[50, 40, 30, 20, 10]"
            ]
          },
          "metadata": {},
          "execution_count": 6
        }
      ]
    },
    {
      "cell_type": "code",
      "source": [
        "#11. Write a code to create a tuple with the elements 100, 200, 300 and print it.\n",
        "tuple1=(100,200,300)\n",
        "tuple1"
      ],
      "metadata": {
        "colab": {
          "base_uri": "https://localhost:8080/"
        },
        "id": "3y6Z2pFBvqwc",
        "outputId": "13cd0c5e-f2fa-4e61-9f73-f4d559382664"
      },
      "execution_count": null,
      "outputs": [
        {
          "output_type": "execute_result",
          "data": {
            "text/plain": [
              "(100, 200, 300)"
            ]
          },
          "metadata": {},
          "execution_count": 1
        }
      ]
    },
    {
      "cell_type": "code",
      "source": [
        "#12. Write a code to access the second-to-last element of the tuple ('red', 'green', 'blue', 'yellow').\n",
        "tuple2=(\"red\",\"green\",\"blue\",\"yellow\")\n",
        "tuple2[-2]"
      ],
      "metadata": {
        "colab": {
          "base_uri": "https://localhost:8080/",
          "height": 36
        },
        "id": "x2_-eeRtv2_b",
        "outputId": "c429cb37-675e-4cd4-9ee6-fdb76b610784"
      },
      "execution_count": null,
      "outputs": [
        {
          "output_type": "execute_result",
          "data": {
            "text/plain": [
              "'blue'"
            ],
            "application/vnd.google.colaboratory.intrinsic+json": {
              "type": "string"
            }
          },
          "metadata": {},
          "execution_count": 2
        }
      ]
    },
    {
      "cell_type": "code",
      "source": [
        "#13. Write a code to find the minimum number in the tuple (10, 20, 5, 15).\n",
        "tuple3=(10,20,5,15)\n",
        "min(tuple3)"
      ],
      "metadata": {
        "colab": {
          "base_uri": "https://localhost:8080/"
        },
        "id": "Y0yhlhqyxYzk",
        "outputId": "912ec585-765a-4469-b4d6-2dd4b27214cb"
      },
      "execution_count": null,
      "outputs": [
        {
          "output_type": "execute_result",
          "data": {
            "text/plain": [
              "5"
            ]
          },
          "metadata": {},
          "execution_count": 3
        }
      ]
    },
    {
      "cell_type": "code",
      "source": [
        "#14. Write a code to find the index of the element \"cat\" in the tuple ('dog', 'cat', 'rabbit').\n",
        "tuple4=(\"dog\",\"cat\",\"rabbit\")\n",
        "tuple4.index(\"cat\")"
      ],
      "metadata": {
        "colab": {
          "base_uri": "https://localhost:8080/"
        },
        "id": "eUrjRRUexrhQ",
        "outputId": "bff54c82-503d-462c-d811-14f1036572a3"
      },
      "execution_count": null,
      "outputs": [
        {
          "output_type": "execute_result",
          "data": {
            "text/plain": [
              "1"
            ]
          },
          "metadata": {},
          "execution_count": 4
        }
      ]
    },
    {
      "cell_type": "code",
      "source": [
        "#15. Write a code to create a tuple containing three different fruits and check if \"kiwi\" is in it.\n",
        "tuple5=(\"apple\",\"banana\",\"kiwi\")\n",
        "\"kiwi\" in tuple5"
      ],
      "metadata": {
        "colab": {
          "base_uri": "https://localhost:8080/"
        },
        "id": "wxX87hlHyWnj",
        "outputId": "9d98ac5d-52fe-42cd-fbfa-e6f21f2aa78b"
      },
      "execution_count": null,
      "outputs": [
        {
          "output_type": "execute_result",
          "data": {
            "text/plain": [
              "True"
            ]
          },
          "metadata": {},
          "execution_count": 5
        }
      ]
    },
    {
      "cell_type": "code",
      "source": [
        "#16. Write a code to create a set with the elements 'a', 'b', 'c' and print it\n",
        "set1={'a','b','c'}\n",
        "set1"
      ],
      "metadata": {
        "colab": {
          "base_uri": "https://localhost:8080/"
        },
        "id": "mpD4yp4KzK67",
        "outputId": "459ca611-ca7a-4467-fa81-af2d49e40786"
      },
      "execution_count": null,
      "outputs": [
        {
          "output_type": "execute_result",
          "data": {
            "text/plain": [
              "{'a', 'b', 'c'}"
            ]
          },
          "metadata": {},
          "execution_count": 6
        }
      ]
    },
    {
      "cell_type": "code",
      "source": [
        "#17. Write a code to clear all elements from the set {1, 2, 3, 4, 5}.\n",
        "set2={1,2,3,4,5}\n",
        "set2.clear()\n",
        "set2"
      ],
      "metadata": {
        "colab": {
          "base_uri": "https://localhost:8080/"
        },
        "id": "WFE1GBq1zYii",
        "outputId": "da50e549-5841-4444-b240-3071bec5e1a0"
      },
      "execution_count": null,
      "outputs": [
        {
          "output_type": "execute_result",
          "data": {
            "text/plain": [
              "set()"
            ]
          },
          "metadata": {},
          "execution_count": 9
        }
      ]
    },
    {
      "cell_type": "code",
      "source": [
        "#18. Write a code to remove the element 4 from the set {1, 2, 3, 4}.\n",
        "set3={1,2,3,4}\n",
        "set3.remove(4)\n",
        "set3"
      ],
      "metadata": {
        "colab": {
          "base_uri": "https://localhost:8080/"
        },
        "id": "u78a88iGzv2K",
        "outputId": "0be6df07-f36d-4330-d973-c602618630ca"
      },
      "execution_count": null,
      "outputs": [
        {
          "output_type": "execute_result",
          "data": {
            "text/plain": [
              "{1, 2, 3}"
            ]
          },
          "metadata": {},
          "execution_count": 10
        }
      ]
    },
    {
      "cell_type": "code",
      "source": [
        "#19. Write a code to find the union of two sets {1, 2, 3} and {3, 4, 5}.\n",
        "set4={1,2,3}\n",
        "set5={3,4,5}\n",
        "set4 | set5\n",
        "#set4.union(set5)"
      ],
      "metadata": {
        "colab": {
          "base_uri": "https://localhost:8080/"
        },
        "id": "MiLYWvLqz7GI",
        "outputId": "c7af4829-e5ba-44a0-a1de-ec6c07777c09"
      },
      "execution_count": null,
      "outputs": [
        {
          "output_type": "execute_result",
          "data": {
            "text/plain": [
              "{1, 2, 3, 4, 5}"
            ]
          },
          "metadata": {},
          "execution_count": 14
        }
      ]
    },
    {
      "cell_type": "code",
      "source": [
        "#20. Write a code to find the intersection of two sets {1, 2, 3} and {2, 3, 4}.\n",
        "set4={1,2,3}\n",
        "set5={2,3,4}\n",
        "set4 & set5\n",
        "#set4.intersection(set5)"
      ],
      "metadata": {
        "colab": {
          "base_uri": "https://localhost:8080/"
        },
        "id": "rQ39NNFb0nDo",
        "outputId": "2ed140c2-da95-46cb-97d6-d40bc587d37e"
      },
      "execution_count": null,
      "outputs": [
        {
          "output_type": "execute_result",
          "data": {
            "text/plain": [
              "{2, 3}"
            ]
          },
          "metadata": {},
          "execution_count": 17
        }
      ]
    },
    {
      "cell_type": "code",
      "source": [
        "#21. Write a code to create a dictionary with the keys \"name\", \"age\", and \"city\", and print it.\n",
        "dict1={}\n",
        "dict1={\"name\":\"Asha\",\"age\":20,\"city\":\"Delhi\"}\n",
        "dict1"
      ],
      "metadata": {
        "colab": {
          "base_uri": "https://localhost:8080/"
        },
        "id": "VyzbbaOeVAxy",
        "outputId": "d02d0965-a45e-45ad-b484-dd7bf1e25af8"
      },
      "execution_count": 2,
      "outputs": [
        {
          "output_type": "execute_result",
          "data": {
            "text/plain": [
              "{'name': 'Asha', 'age': 20, 'city': 'Delhi'}"
            ]
          },
          "metadata": {},
          "execution_count": 2
        }
      ]
    },
    {
      "cell_type": "code",
      "source": [
        "#22. Write a code to add a new key-value pair \"country\": \"USA\" to the dictionary {'name': 'John', 'age': 25}.\n",
        "dict2={}\n",
        "dict2={'name':'John','age':25}\n",
        "dict3={'country':'USA'}\n",
        "dict2.update(dict3)\n",
        "dict2"
      ],
      "metadata": {
        "colab": {
          "base_uri": "https://localhost:8080/"
        },
        "id": "shTdlwExWgXI",
        "outputId": "0aef5252-dadf-4e76-acc2-8a1aec0f0b86"
      },
      "execution_count": 4,
      "outputs": [
        {
          "output_type": "execute_result",
          "data": {
            "text/plain": [
              "{'name': 'John', 'age': 25, 'country': 'USA'}"
            ]
          },
          "metadata": {},
          "execution_count": 4
        }
      ]
    },
    {
      "cell_type": "code",
      "source": [
        "#23. Write a code to access the value associated with the key \"name\" in the dictionary {'name': 'Alice', 'age': 30}.\n",
        "dict4={'name':'Alice','age':30}\n",
        "dict4['name']"
      ],
      "metadata": {
        "colab": {
          "base_uri": "https://localhost:8080/",
          "height": 36
        },
        "id": "IIhSIiuAW9Iw",
        "outputId": "1be63e61-0012-4ce4-e38d-d3105a76b508"
      },
      "execution_count": 5,
      "outputs": [
        {
          "output_type": "execute_result",
          "data": {
            "text/plain": [
              "'Alice'"
            ],
            "application/vnd.google.colaboratory.intrinsic+json": {
              "type": "string"
            }
          },
          "metadata": {},
          "execution_count": 5
        }
      ]
    },
    {
      "cell_type": "code",
      "source": [
        "#24. Write a code to remove the key \"age\" from the dictionary {'name': 'Bob', 'age': 22, 'city': 'New York'}.\n",
        "dict5={'name':'Bob','age':22,'city':'New York'}\n",
        "dict5.pop('age')"
      ],
      "metadata": {
        "colab": {
          "base_uri": "https://localhost:8080/"
        },
        "id": "t7blZvKNXc-A",
        "outputId": "b92ac6ae-fed6-428a-a315-16d22804afb9"
      },
      "execution_count": 6,
      "outputs": [
        {
          "output_type": "execute_result",
          "data": {
            "text/plain": [
              "22"
            ]
          },
          "metadata": {},
          "execution_count": 6
        }
      ]
    },
    {
      "cell_type": "code",
      "source": [
        "#25. Write a code to check if the key \"city\" exists in the dictionary {'name': 'Alice', 'city': 'Paris'}.\n",
        "dict6={'name':'Alice','city':'Paris'}\n",
        "'city' in dict6"
      ],
      "metadata": {
        "colab": {
          "base_uri": "https://localhost:8080/"
        },
        "id": "0DI4cgVmYoSc",
        "outputId": "16e34791-9797-4929-b407-65decfd8139b"
      },
      "execution_count": 7,
      "outputs": [
        {
          "output_type": "execute_result",
          "data": {
            "text/plain": [
              "True"
            ]
          },
          "metadata": {},
          "execution_count": 7
        }
      ]
    },
    {
      "cell_type": "code",
      "source": [
        "#26. Write a code to create a list, a tuple, and a dictionary, and print them all.\n",
        "list1=[1,'Vijay',1.2]\n",
        "print(list1)\n",
        "tuple1=(1,'Vijay',1.2)\n",
        "print(tuple1)\n",
        "dict1={'name':'Vijay','age':20}\n",
        "print(dict1)"
      ],
      "metadata": {
        "colab": {
          "base_uri": "https://localhost:8080/"
        },
        "id": "1ruhisdtYoL7",
        "outputId": "13f4c029-e491-4b45-df77-b28954f392a1"
      },
      "execution_count": 8,
      "outputs": [
        {
          "output_type": "stream",
          "name": "stdout",
          "text": [
            "[1, 'Vijay', 1.2]\n",
            "(1, 'Vijay', 1.2)\n",
            "{'name': 'Vijay', 'age': 20}\n"
          ]
        }
      ]
    },
    {
      "cell_type": "code",
      "source": [
        "#27. Write a code to create a list of 5 random numbers between 1 and 100, sort it in ascending order, and print the result.(replaced)\n",
        "import random\n",
        "list2=[item for item in  random.sample(range(1, 101), 5)]\n",
        "print(list2)\n",
        "list2.sort()\n",
        "print(f\"Sorted list:-{list2}\")\n",
        "#"
      ],
      "metadata": {
        "colab": {
          "base_uri": "https://localhost:8080/"
        },
        "id": "qk_3Jwg8ZjHY",
        "outputId": "59cc0cfb-a304-48fd-996d-efdc91ed5b64"
      },
      "execution_count": 10,
      "outputs": [
        {
          "output_type": "stream",
          "name": "stdout",
          "text": [
            "[26, 55, 17, 73, 67]\n",
            "Sorted list:-[17, 26, 55, 67, 73]\n"
          ]
        }
      ]
    },
    {
      "cell_type": "code",
      "source": [
        "#28. Write a code to create a list with strings and print the element at the third index.\n",
        "list3=['apple','banana','cherry']\n",
        "list3[2]"
      ],
      "metadata": {
        "colab": {
          "base_uri": "https://localhost:8080/",
          "height": 36
        },
        "id": "lqw1MuL6eOpZ",
        "outputId": "ff5dfdbb-8c2b-405c-ceac-644aa5a55e4b"
      },
      "execution_count": 11,
      "outputs": [
        {
          "output_type": "execute_result",
          "data": {
            "text/plain": [
              "'cherry'"
            ],
            "application/vnd.google.colaboratory.intrinsic+json": {
              "type": "string"
            }
          },
          "metadata": {},
          "execution_count": 11
        }
      ]
    },
    {
      "cell_type": "code",
      "source": [
        "#29. Write a code to combine two dictionaries into one and print the result.\n",
        "dict7={'fruit':'banana'}\n",
        "dict8={'colour':'yellow'}\n",
        "dict7.update(dict8)\n",
        "dict7"
      ],
      "metadata": {
        "colab": {
          "base_uri": "https://localhost:8080/"
        },
        "id": "P2gKxBmzeuTP",
        "outputId": "ad6aff3f-373a-43db-b89d-3a576716408e"
      },
      "execution_count": 12,
      "outputs": [
        {
          "output_type": "execute_result",
          "data": {
            "text/plain": [
              "{'fruit': 'banana', 'colour': 'yellow'}"
            ]
          },
          "metadata": {},
          "execution_count": 12
        }
      ]
    },
    {
      "cell_type": "code",
      "source": [
        "#30. Write a code to convert a list of strings into a set.\n",
        "list4=['apple','banana','cherry','banana','apple']\n",
        "set(list4)"
      ],
      "metadata": {
        "colab": {
          "base_uri": "https://localhost:8080/"
        },
        "id": "5pr6j0N2fjfT",
        "outputId": "a7a0fc47-e7b5-441d-9c3a-55e2b1f95764"
      },
      "execution_count": 13,
      "outputs": [
        {
          "output_type": "execute_result",
          "data": {
            "text/plain": [
              "{'apple', 'banana', 'cherry'}"
            ]
          },
          "metadata": {},
          "execution_count": 13
        }
      ]
    }
  ]
}
