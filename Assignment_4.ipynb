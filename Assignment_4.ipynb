{
  "nbformat": 4,
  "nbformat_minor": 0,
  "metadata": {
    "colab": {
      "provenance": [],
      "include_colab_link": true
    },
    "kernelspec": {
      "name": "python3",
      "display_name": "Python 3"
    },
    "language_info": {
      "name": "python"
    }
  },
  "cells": [
    {
      "cell_type": "markdown",
      "metadata": {
        "id": "view-in-github",
        "colab_type": "text"
      },
      "source": [
        "<a href=\"https://colab.research.google.com/github/Srushti12-git/Python-Basics/blob/main/Assignment_4.ipynb\" target=\"_parent\"><img src=\"https://colab.research.google.com/assets/colab-badge.svg\" alt=\"Open In Colab\"/></a>"
      ]
    },
    {
      "cell_type": "markdown",
      "source": [
        "# Python OOPs Questions\n"
      ],
      "metadata": {
        "id": "SvIoKK8j6tHm"
      }
    },
    {
      "cell_type": "markdown",
      "source": [],
      "metadata": {
        "id": "LJMq9pL16nrz"
      }
    },
    {
      "cell_type": "markdown",
      "source": [
        "1. What is Object-Oriented Programming (OOP)?\n",
        "\n",
        "Ans:-Object-Oriented Programming (OOP) is a programming paradigm based on the concept of \"objects\", which can contain data (fields or attributes) and code (methods or functions).\n",
        "\n",
        "2. What is a class in OOP?\n",
        "\n",
        "Ans:-A class is a blueprint or template for creating objects.\n",
        "It defines a set of attributes (data) and methods (functions) that the created objects (called instances) will have.\n",
        "\n",
        "3. What is an object in OOP?\n",
        "\n",
        "Ans:An object is a real-world instance of a class. It represents an actual entity that has:\n",
        "\n",
        "->Attributes (data/state)\n",
        "\n",
        "->Methods (behavior/actions)\n",
        "\n",
        "Objects are created based on a class and can interact with one another.\n",
        "\n",
        "4. What is the difference between abstraction and encapsulation?\n",
        "\n",
        "Ans:\n",
        "1.   Abstraction\n",
        "Definition:\n",
        "Abstraction means hiding complex implementation details and showing only the essential features of an object.\n",
        "\n",
        "Purpose:\n",
        "To simplify the interface and help users focus only on relevant parts.\n",
        "\n",
        "Example:\n",
        "When you drive a car, you use the steering wheel and pedals — you don’t need to know how the engine works inside.\n",
        "\n",
        "In Code (Python):\n",
        "from abc import ABC, abstractmethod\n",
        "\n",
        "class Animal(ABC):  # Abstract class\n",
        "    @abstractmethod\n",
        "    def make_sound(self):\n",
        "        pass\n",
        "\n",
        "class Dog(Animal):\n",
        "    def make_sound(self):\n",
        "        return \"Bark\"\n",
        "\n",
        "d = Dog()\n",
        "print(d.make_sound())  # Output: Bark\n",
        "\n",
        "2.   Encapsulation\n",
        "Definition:\n",
        "Encapsulation means bundling data and methods together and restricting direct access to some of the object's components.\n",
        "\n",
        "Purpose:\n",
        "To protect data and make sure it's used properly.\n",
        "\n",
        "Example:\n",
        "You can't directly change the internal settings of your washing machine; you use buttons (interface) to control it.\n",
        "\n",
        "In Code:\n",
        "class Person:\n",
        "    def __init__(self, name, age):\n",
        "        self.name = name\n",
        "        self.__age = age  # private attribute\n",
        "\n",
        "    def get_age(self):\n",
        "        return self.__age\n",
        "\n",
        "    def set_age(self, age):\n",
        "        if age > 0:\n",
        "            self.__age = age\n",
        "\n",
        "p = Person(\"Alice\", 30)\n",
        "print(p.get_age())   # Output: 30\n",
        "p.set_age(35)\n",
        "print(p.get_age())   # Output: 35\n",
        "\n",
        "5. What are dunder methods in Python?\n",
        "\n",
        "Ans:-Dunder methods (also called magic methods or special methods) are methods in Python that start and end with double underscores: __like__.\n",
        "\n",
        "6. Explain the concept of inheritance in OOP.\n",
        "\n",
        "Ans:\n",
        "->Inheritance is a fundamental concept in OOP where one class (child or derived class) can acquire properties and behaviors (attributes and methods) from another class (parent or base class).\n",
        "\n",
        "->It allows code reuse, hierarchical classification, and supports polymorphism.\n",
        "\n",
        "->Basic Idea:\n",
        "If class B inherits from class A, then:\n",
        "=>B gets access to all public and protected members of A\n",
        "\n",
        "=>B can add new features\n",
        "\n",
        "=>B can also override existing features\n",
        "\n",
        "->\n",
        "# Parent class\n",
        "class Animal:\n",
        "    def __init__(self, name):\n",
        "        self.name = name\n",
        "\n",
        "    def speak(self):\n",
        "        return f\"{self.name} makes a sound\"\n",
        "\n",
        "# Child class\n",
        "class Dog(Animal):\n",
        "    def speak(self):\n",
        "        return f\"{self.name} barks\"\n",
        "\n",
        "# Usage\n",
        "d = Dog(\"Buddy\")\n",
        "print(d.speak())  # Output: Buddy barks\n",
        "\n",
        "7. What is polymorphism in OOP?\n",
        "\n",
        "Ans:-Polymorphism means “many forms”. In OOP, it allows objects of different classes to be treated as objects of a common superclass, especially when they share a method with the same name but different behaviors.\n",
        "\n",
        " Real-life Example:\n",
        "A TV remote has a power button:\n",
        "->For a TV, it turns on the screen.\n",
        "->For an AC, it turns on cooling.\n",
        "->For a music system, it turns on sound.\n",
        "Different devices respond differently to the same action — that’s polymorphism.\n",
        "\n",
        "8. How is encapsulation achieved in Python?\n",
        "\n",
        "Ans:-Encapsulation means wrapping data (attributes) and code (methods) together and restricting access to internal details. It protects the object's internal state from unintended interference.\n",
        "\n",
        "The polymorphism in python can be achieved using:\n",
        "1.  Public Members (name)\n",
        "*   Description:\n",
        "Public members are completely accessible from anywhere — both inside and outside the class.\n",
        "*   Usage:\n",
        "When you define an attribute or method without any underscores, it is public by default.\n",
        "*   Example:\n",
        "class Person:\n",
        "    def __init__(self, name):\n",
        "        self.name = name  # Public attribute\n",
        "\n",
        "p = Person(\"Alice\")\n",
        "print(p.name)  # Accessible directly — Output: Alice\n",
        "*   Use Case:\n",
        "Use public members when the data or method is safe to expose and needs to be freely accessed.\n",
        "\n",
        "2.  Protected Members (_name)\n",
        "*   Description:\n",
        "Protected members are intended for internal use within the class or its subclasses.\n",
        "They are marked by a single underscore prefix (_).\n",
        "Python does not enforce access restrictions, but this is a convention to signal that the member should be treated as non-public.\n",
        "*   Usage:\n",
        "class Employee:\n",
        "    def __init__(self, name):\n",
        "        self._name = name  # Protected attribute\n",
        "\n",
        "e = Employee(\"Bob\")\n",
        "print(e._name)  # Technically allowed, but discouraged\n",
        "*   Use Case:\n",
        "Use protected members when you want to indicate restricted access, but are okay if subclasses use them.\n",
        "\n",
        "3.  Private Members (__name)\n",
        "*   Description:\n",
        "Private members are used when you want to strongly restrict access from outside the class.\n",
        "They are defined with a double underscore prefix (__).\n",
        "Python performs name mangling, which changes the name of the attribute internally (e.g., __name becomes _ClassName__name).\n",
        "*   Usage:\n",
        "class Account:\n",
        "    def __init__(self, balance):\n",
        "        self.__balance = balance  # Private attribute\n",
        "\n",
        "    def get_balance(self):\n",
        "        return self.__balance\n",
        "\n",
        "a = Account(1000)\n",
        "print(a.get_balance())   #  Allowed\n",
        "\"\"\" print(a.__balance)\"\"\"     #  AttributeError\n",
        "print(a._Account__balance)  #  Name mangling workaround\n",
        "*   Use Case:\n",
        "Use private members when you want to hide the internal details completely, and enforce access only through getter/setter methods.\n",
        "\n",
        "9. What is a constructor in Python?\n",
        "\n",
        "Ans:-A constructor in Python is a special method used to initialize objects of a class. When an object is created from a class, the constructor is automatically called to set up the object with default or initial values.\n",
        "\n",
        "class Student:\n",
        "    def __init__(self, name, age):\n",
        "        self.name = name      # Instance variable\n",
        "        self.age = age\n",
        "\n",
        "s1 = Student(\"Ajay\", 21) #Creating an object of Student class\n",
        "\n",
        "print(s1.name)  # Output: Ajay\n",
        "print(s1.age)   # Output: 21\n",
        "\n",
        "10. What are class and static methods in Python?\n",
        "\n",
        "Ans:In Python, class and static methods are types of methods that belong to the class, rather than the instance (object), and they are defined using decorators: @classmethod and @staticmethod.\n",
        "\n",
        "1. Class Method (@classmethod):\n",
        "Definition:\n",
        "A class method is a method that receives the class itself as its first argument instead of the instance.\n",
        "Syntax:\n",
        "class MyClass:\n",
        "    @classmethod\n",
        "    def my_class_method(cls, arg1):\n",
        "        print(\"Called from class:\", cls)\n",
        "        print(\"Argument:\", arg1)\n",
        "\n",
        "\n",
        "11. What is method overloading in Python?\n",
        "\n",
        "Ans:-\n",
        "->Method Overloading means having multiple methods in the same class with the same name but different parameters (number or type).\n",
        "->It allows the method to behave differently depending on how many or what kind of arguments are passed.\n",
        "->Python does not support true method overloading like Java or C++.\n",
        "->If you define the same method multiple times with different parameters in a Python class, only the last definition will be used.\n",
        "\n",
        "12. What is method overriding in OOP?\n",
        "\n",
        "Ans:-Method overriding occurs when a child (subclass) defines a method with the same name and parameters as a method in its parent (superclass).\n",
        "The child’s method replaces (overrides) the parent’s version when called from the child class object.\n",
        "\n",
        "13. What is a property decorator in Python?\n",
        "\n",
        "Ans:-The @property decorator is used to turn a method into a read-only attribute — meaning you can call a method like a variable.It’s part of encapsulation in OOP — allowing you to control access to class data without changing how it’s accessed.\n",
        "\n",
        "14. Why is polymorphism important in OOP?\n",
        "\n",
        "Ans:-Importance of polymorphism:-\n",
        "1. Code Reusability\n",
        "=>Allows writing general-purpose code that works across different object types.\n",
        "=>Reduces code duplication and increases development efficiency.\n",
        "\n",
        "2. Extensibility\n",
        "=>Makes it easy to add new classes or features without changing existing code.\n",
        "=>Helps in building scalable and adaptable systems.\n",
        "\n",
        "3.  Maintainability\n",
        "=>Keeps logic separated within specific subclasses.\n",
        "=>Simplifies debugging, testing, and future updates.\n",
        "\n",
        "4.  Readability\n",
        "=>Encourages clean and abstract code using shared interfaces or base classes.\n",
        "=>Makes programs easier to understand and manage.\n",
        "\n",
        "5.  Interface Implementation\n",
        "=>Allows different classes to implement the same method in their own way.\n",
        "=>Ensures consistent method naming with flexible behavior.\n",
        "\n",
        "6.  Flexibility in Design\n",
        "=>Promotes dynamic behavior at runtime through method overriding.\n",
        "=>Supports principles like \"program to an interface, not an implementation.\"\n",
        "\n",
        "15. What is an abstract class in Python?\n",
        "\n",
        "Ans:An abstract class in Python is a class that cannot be instantiated directly and is designed to be a base class for other classes. It may contain abstract methods that must be implemented by its subclasses.\n",
        "\n",
        "16. What are the advantages of OOP?\n",
        "\n",
        "Ans:-The advantages of OOPs are:-\n",
        " 1. Modularity\n",
        "->Code is organized into classes, making it easier to manage.\n",
        "->Each class is a self-contained unit with related data and functions.\n",
        "->Example: A Car class handles all car-related logic—no need to mix it with unrelated code.\n",
        "\n",
        "2. Reusability\n",
        "->Through inheritance, you can reuse existing code.\n",
        "->A base class can be extended by child classes without rewriting code.\n",
        "->Example:-\n",
        "class Vehicle:\n",
        "    def start(self): pass\n",
        "\n",
        "class Car(Vehicle):\n",
        "    def honk(self): pass  # Reuses `start` from Vehicle\n",
        "\n",
        "3. Encapsulation\n",
        "->Hides internal state and behavior of objects.\n",
        "->Only exposes a controlled interface using public methods.\n",
        "->Example:\n",
        "class BankAccount:\n",
        "    def __init__(self):\n",
        "        self.__balance = 0  # private\n",
        "\n",
        "    def deposit(self, amount):\n",
        "        self.__balance += amount\n",
        "\n",
        "4. Polymorphism\n",
        "->The same method name can behave differently based on the object.\n",
        "->Example:\n",
        "class Dog:\n",
        "    def speak(self): return \"Bark\"\n",
        "\n",
        "class Cat:\n",
        "    def speak(self): return \"Meow\"\n",
        "\n",
        "def animal_sound(animal):\n",
        "    print(animal.speak())\n",
        "\n",
        "animal_sound(Dog())\n",
        "animal_sound(Cat())\n",
        "\n",
        "5. Easy Maintenance and Scalability\n",
        "->Changing one part of a system doesn't affect the whole program.\n",
        "->Easier to scale applications by adding new classes or features.\n",
        "\n",
        "6. Improved Productivity\n",
        "->Reuse of code + better structure = faster development.\n",
        "->Teams can work on different classes/modules independently.\n",
        "\n",
        "7. Real-world Modeling\n",
        "->OOP mimics how we perceive the real world — using objects.\n",
        "->Improves understanding and design of software systems.\n",
        "\n",
        "8. Abstraction\n",
        "->Focuses on what an object does instead of how it does it.\n",
        "->Reduces complexity by hiding unnecessary details.\n",
        "\n",
        "17. What is the difference between a class variable and an instance variable?\n",
        "\n",
        "Ans:-\n",
        "1.  Definition\n",
        "=>Class Variable: A variable that is shared by all instances of a class.\n",
        "=>Instance Variable: A variable that is unique to each object (instance) of the class.\n",
        "\n",
        "2.  Declaration\n",
        "=>Class Variable: Declared inside the class, but outside any method.\n",
        "=>Instance Variable: Declared inside the constructor (__init__ method) using self.\n",
        "\n",
        "3.  Storage\n",
        "=>Class Variable: Stored at the class level — one copy shared across all instances.\n",
        "=>Instance Variable: Stored at the object level — each object has its own copy.\n",
        "\n",
        "4.  Accessed By\n",
        "=>Class Variable: Accessed using ClassName.variable or object.variable.\n",
        "=>Instance Variable: Accessed only using object.variable.\n",
        "\n",
        "5.  Affects\n",
        "=>Class Variable: Changes affect all objects (if changed via the class).\n",
        "=>Instance Variable: Changes affect only the object where it was changed.\n",
        "\n",
        "6.  Use Case\n",
        "=>Class Variable: For values common to all objects (e.g., school name).\n",
        "=>Instance Variable: For values that differ per object (e.g., student name, marks).\n",
        "\n",
        "18. What is multiple inheritance in Python?\n",
        "\n",
        "Ans:-Multiple Inheritance means a class can inherit from more than one parent class at the same time.This allows the child class to access attributes and methods from all parent classes, combining their functionality.\n",
        "\n",
        "Syntax of Multiple Inheritance:\n",
        "class Parent1:\n",
        "    def show1(self):\n",
        "        print(\"Parent1\")\n",
        "\n",
        "class Parent2:\n",
        "    def show2(self):\n",
        "        print(\"Parent2\")\n",
        "\n",
        "\n",
        "class Child(Parent1, Parent2): #Child inherits from both Parent1 and Parent2\n",
        "    def show(self):\n",
        "        print(\"Child\")\n",
        "\n",
        "c = Child()\n",
        "c.show1()   # From Parent1\n",
        "c.show2()   # From Parent2\n",
        "c.show()    # From Child\n",
        "\n",
        "19. Explain the purpose of ‘’__str__’ and ‘__repr__’ ‘ methods in Python?\n",
        "\n",
        "Ans:-\n",
        "1.  __str__: Human-Readable\n",
        "=>Used when you print the object\n",
        "=>Should return something easy to read and meaningful for users\n",
        "=>Example:-\n",
        "class Student:\n",
        "    def __init__(self, name, marks):\n",
        "        self.name = name\n",
        "        self.marks = marks\n",
        "\n",
        "    def __str__(self):\n",
        "        return f\"Student {self.name} scored {self.marks}\"\n",
        "\n",
        "s = Student(\"Srushti\", 90)\n",
        "print(s)  # Output: Student Srushti scored 90\n",
        "\n",
        "2.  __repr__: Developer-Readable (Unambiguous)\n",
        "->Used mostly for debugging\n",
        "=>Should return a string that looks like a valid Python expression (if possible)\n",
        "=>Example:-\n",
        "class Student:\n",
        "    def __init__(self, name, marks):\n",
        "        self.name = name\n",
        "        self.marks = marks\n",
        "\n",
        "    def __repr__(self):\n",
        "        return f\"Student('{self.name}', {self.marks})\"\n",
        "\n",
        "s = Student(\"Srushti\", 90)\n",
        "print(repr(s))  # Output: Student('Srushti', 90)\n",
        "\n",
        "20. What is the significance of the ‘super()’ function in Python?\n",
        "\n",
        "Ans:-The super() function in Python is used to call a method from the parent (or superclass) inside a child class.It is especially useful in inheritance, where a subclass wants to:\n",
        "=>Reuse methods or attributes from the parent class\n",
        "=>Extend or override methods but still call the original version\n",
        "\n",
        "21. What is the significance of the __del__ method in Python?\n",
        "\n",
        "Ans:-The __del__ method in Python is a destructor — a special method that is automatically called when an object is about to be destroyed (i.e., when it's garbage collected).It allows you to clean up resources before the object is removed from memory.\n",
        "\n",
        "22. What is the difference between @staticmethod and @classmethod in Python?\n",
        "\n",
        "Ans:-\n",
        "1.  @staticmethod\n",
        "->Definition: A static method does not take the self or cls parameter.\n",
        "->Purpose: It behaves like a regular function, but it belongs to the class’s namespace.\n",
        "->Usage: When the method does not need to access class or instance data.\n",
        "->Syntax:\n",
        "class MyClass:\n",
        "    @staticmethod\n",
        "    def greet(name):\n",
        "        print(f\"Hello, {name}!\")\n",
        "\n",
        "MyClass.greet(\"Alice\") --->Call\n",
        "\n",
        "2.  @classmethod\n",
        "->Definition: A class method takes cls as the first parameter, referring to the class itself.\n",
        "->Purpose: It can access and modify class state using cls, and is often used for factory methods.\n",
        "->Usage: When you need to operate on the class, not a specific instance.\n",
        "->Syntax:\n",
        "class MyClass:\n",
        "    count = 0\n",
        "\n",
        "    @classmethod\n",
        "    def increment_count(cls):\n",
        "        cls.count += 1\n",
        "\n",
        "MyClass.increment_count()\n",
        "print(MyClass.count)  # Output: 1\n",
        "\n",
        "23. How does polymorphism work in Python with inheritance?\n",
        "\n",
        "Ans:-Polymorphism means “many forms” — the ability to call the same method name on different objects, and each object responds in its own way.\n",
        "When combined with inheritance, polymorphism lets us:\n",
        "=>Define a method in the parent class\n",
        "=>Override it in child classes\n",
        "=>Call the method using the parent class reference, and get the child-specific behavior\n",
        "\n",
        "24. What is method chaining in Python OOP?\n",
        "\n",
        "Ans:-Method chaining in Python refers to calling multiple methods on the same object in a single line, one after the other.Each method returns the object itself (self), allowing the next method to be called on the same instance — like a chain.\n",
        "\n",
        "Example:\n",
        "class Person:\n",
        "    def __init__(self, name):\n",
        "        self.name = name\n",
        "        self.age = None\n",
        "        self.city = None\n",
        "\n",
        "    def set_age(self, age):\n",
        "        self.age = age\n",
        "        return self\n",
        "\n",
        "    def set_city(self, city):\n",
        "        self.city = city\n",
        "        return self\n",
        "\n",
        "    def display(self):\n",
        "        print(f\"Name: {self.name}, Age: {self.age}, City: {self.city}\")\n",
        "        return self\n",
        "\n",
        "# Method chaining in action\n",
        "p = Person(\"Srushti\")\n",
        "p.set_age(22).set_city(\"Pune\").display()\n",
        "=>Output\n",
        "Name: Srushti, Age: 22, City: Pune\n",
        "\n",
        "25. What is the purpose of the __call__ method in Python?\n",
        "\n",
        "Ans:-The __call__ method in Python lets you make an object behave like a function.When you define __call__ inside a class, you can \"call\" its instances just like functions using ().\n",
        "Example:-\n",
        "class Greet:\n",
        "    def __call__(self, name):\n",
        "        print(f\"Hello, {name}!\")\n",
        "\n",
        "g = Greet()\n",
        "g(\"Srushti\")  # Calls __call__ method\n"
      ],
      "metadata": {
        "id": "sU2K2Qe-7THo"
      }
    },
    {
      "cell_type": "code",
      "source": [
        "#1. Create a parent class Animal with a method speak() that prints a generic message. Create a child class Dog that overrides the speak() method to print \"Bark!\".\n",
        "class Animal:\n",
        "  def speak(self):\n",
        "    print(\"Sounds made ny animals\")\n",
        "\n",
        "class Dog(Animal):\n",
        "  def speak(self):\n",
        "    print(\"Bark!\")\n",
        "\n",
        "dog=Dog()\n",
        "dog.speak()"
      ],
      "metadata": {
        "colab": {
          "base_uri": "https://localhost:8080/"
        },
        "id": "rfBeX55l3-aa",
        "outputId": "94041593-b3bd-4176-9b54-5ef1b4f18097"
      },
      "execution_count": null,
      "outputs": [
        {
          "output_type": "stream",
          "name": "stdout",
          "text": [
            "Bark!\n"
          ]
        }
      ]
    },
    {
      "cell_type": "code",
      "source": [
        "#2. Write a program to create an abstract class Shape with a method area(). Derive classes Circle and Rectangle from it and implement the area() method in both.\n",
        "from abc import ABC, abstractmethod\n",
        "\n",
        "class Shape(ABC):\n",
        "    @abstractmethod\n",
        "    def area(self):\n",
        "      pass\n",
        "\n",
        "class Circle(Shape):\n",
        "  def __init__(self,radius):\n",
        "    self.radius=radius\n",
        "\n",
        "  def area(self):\n",
        "    radius=self.radius\n",
        "    radius=int(input(\"Enter the radius of the circle : \"))\n",
        "    return 3.14*radius**2\n",
        "\n",
        "class Rectangle(Shape):\n",
        "  def __init__(self,length,width):\n",
        "    self.length=length\n",
        "    self.width=width\n",
        "\n",
        "  def area(self):\n",
        "    length=self.length\n",
        "    width=self.width\n",
        "    length=int(input(\"Enter the length of the rectangle : \"))\n",
        "    width=int(input(\"Enter the width of the rectangle : \"))\n",
        "    return length*width\n",
        "\n",
        "circle=Circle(0)\n",
        "print(circle.area())\n",
        "\n",
        "rectangle=Rectangle(0,0)\n",
        "print(rectangle.area())"
      ],
      "metadata": {
        "id": "w8FH4cp94s5n",
        "colab": {
          "base_uri": "https://localhost:8080/"
        },
        "outputId": "89438840-6954-4370-b222-0ec3082fa6f7"
      },
      "execution_count": null,
      "outputs": [
        {
          "output_type": "stream",
          "name": "stdout",
          "text": [
            "Enter the radius of the circle : 7\n",
            "153.86\n",
            "Enter the length of the rectangle : 3\n",
            "Enter the width of the rectangle : 4\n",
            "12\n"
          ]
        }
      ]
    },
    {
      "cell_type": "code",
      "source": [
        "#3. Implement a multi-level inheritance scenario where a class Vehicle has an attribute type. Derive a class Car and further derive a class ElectricCar that adds a battery attribute.\n",
        "class Vehicle:\n",
        "  def __init__(self,attribute_type):\n",
        "    self.attribute_type=attribute_type\n",
        "\n",
        "  def type_of_vehicle(self):\n",
        "    attribute_type=self.attribute_type\n",
        "\n",
        "class Car(Vehicle):\n",
        "  def __init__(self,attribute_type):\n",
        "    super().__init__(attribute_type)\n",
        "\n",
        "  def type_of_vehicle(self):\n",
        "    attribute_type=self.attribute_type\n",
        "    print(f\"This is a {attribute_type}\")\n",
        "\n",
        "class ElectricCar(Car):\n",
        "  def __init__(self,attribute_type,battery_type):\n",
        "    super().__init__(attribute_type)\n",
        "    self.battery_type=battery_type\n",
        "\n",
        "  def type_of_vehicle(self):\n",
        "    attribute_type=self.attribute_type\n",
        "    battery_type=self.battery_type\n",
        "    print(f\"This is a {attribute_type} with {battery_type}\")\n",
        "\n",
        "obj1=ElectricCar(\"Car\",\"Power bank\")\n",
        "obj1.type_of_vehicle()\n",
        "\n",
        "obj2=Car(\"Car\")\n",
        "obj2.type_of_vehicle()\n",
        "\n",
        "obj3=Vehicle(\"Car\")\n",
        "obj3.type_of_vehicle()"
      ],
      "metadata": {
        "id": "elg3pNSUmr04",
        "colab": {
          "base_uri": "https://localhost:8080/"
        },
        "outputId": "a8f38e81-b878-4b8a-b849-b2299384351f"
      },
      "execution_count": null,
      "outputs": [
        {
          "output_type": "stream",
          "name": "stdout",
          "text": [
            "This is a Car with Power bank\n",
            "This is a Car\n"
          ]
        }
      ]
    },
    {
      "cell_type": "code",
      "source": [
        "#4. Demonstrate polymorphism by creating a base class Bird with a method fly(). Create two derived classes Sparrow and Penguin that override the fly() method.\n",
        "class Bird:\n",
        "  def fly(self):\n",
        "    print(\"Can fly or can't fly\")\n",
        "\n",
        "class Penguin(Bird):\n",
        "  def fly(self):\n",
        "    print(\"Can't fly\")\n",
        "\n",
        "class Sparrow(Bird):\n",
        "  def fly(self):\n",
        "    print(\"Can fly\")\n",
        "\n",
        "obj1=Penguin()\n",
        "obj2=Sparrow()\n",
        "\n",
        "obj=list([obj1,obj2])\n",
        "\n",
        "def property(obj):\n",
        "  for i in obj:\n",
        "    i.fly()\n",
        "\n",
        "property(obj)"
      ],
      "metadata": {
        "colab": {
          "base_uri": "https://localhost:8080/"
        },
        "id": "YQcEnjUMd-lg",
        "outputId": "c2b14b5a-a03d-459a-e6c0-f84e962639c1"
      },
      "execution_count": null,
      "outputs": [
        {
          "output_type": "stream",
          "name": "stdout",
          "text": [
            "Can't fly\n",
            "Can fly\n"
          ]
        }
      ]
    },
    {
      "cell_type": "code",
      "source": [
        "#5. Write a program to demonstrate encapsulation by creating a class BankAccount with private attributes balance and methods to deposit, withdraw, and check balance.\n",
        "class BankAccount:\n",
        "  def __init__(self,balance):\n",
        "    self.__balance=balance\n",
        "\n",
        "  def deposit(self,amount):\n",
        "    self.__balance+=amount\n",
        "\n",
        "  def withdraw(self,amount):\n",
        "    if self.__balance>=amount:\n",
        "      self.__balance-=amount\n",
        "    else:\n",
        "      print(\"Insufficient balance\")\n",
        "\n",
        "  def check_balance(self):\n",
        "    return self.__balance\n",
        "\n",
        "obj=BankAccount(1000)\n",
        "print(obj.check_balance())\n",
        "obj.deposit(500)\n",
        "print(obj.check_balance())\n",
        "obj.withdraw(2000)\n",
        "print(obj.check_balance())\n",
        "obj.withdraw(500)\n",
        "print(obj.check_balance)"
      ],
      "metadata": {
        "colab": {
          "base_uri": "https://localhost:8080/"
        },
        "id": "DPnlq1Q0igmw",
        "outputId": "25b69fb1-d4ce-4b83-f384-68c3ddaf0183"
      },
      "execution_count": null,
      "outputs": [
        {
          "output_type": "stream",
          "name": "stdout",
          "text": [
            "1000\n",
            "1500\n",
            "Insufficient balance\n",
            "1500\n",
            "<bound method BankAccount.check_balance of <__main__.BankAccount object at 0x7da8bf0091d0>>\n"
          ]
        }
      ]
    },
    {
      "cell_type": "code",
      "source": [
        "#6. Demonstrate runtime polymorphism using a method play() in a base class Instrument. Derive classes Guitar and Piano that implement their own version of play().\n",
        "class Instrument:\n",
        "  def play(self):\n",
        "    print(\"Different ways of playing an instrument\")\n",
        "\n",
        "class Guitar(Instrument):\n",
        "  def play(self):\n",
        "    print(\"Stringed instrument\")\n",
        "\n",
        "class Piano(Instrument):\n",
        "  def play(self):\n",
        "    print(\"Keyboard instrument\")\n",
        "\n",
        "ins1=Guitar()\n",
        "ins2=Piano()\n",
        "\n",
        "ins=list([ins1,ins2])\n",
        "\n",
        "def play(ins):\n",
        "  for i in ins:\n",
        "    i.play()\n",
        "\n",
        "play(ins)"
      ],
      "metadata": {
        "colab": {
          "base_uri": "https://localhost:8080/"
        },
        "id": "72UaU9nIrMov",
        "outputId": "2067d7ea-956a-4965-d5e9-70b2bf91c3b4"
      },
      "execution_count": null,
      "outputs": [
        {
          "output_type": "stream",
          "name": "stdout",
          "text": [
            "Stringed instrument\n",
            "Keyboard instrument\n"
          ]
        }
      ]
    },
    {
      "cell_type": "code",
      "source": [
        "#7. Create a class MathOperations with a class method add_numbers() to add two numbers and a static method subtract_numbers() to subtract two numbers.\n",
        "class MathOperations:\n",
        "  def __init__(self,a,b,res=0):\n",
        "    self.a=a\n",
        "    self.b=b\n",
        "    self.res=res\n",
        "\n",
        "  @classmethod\n",
        "  def add(cls,a,b):\n",
        "    res=a+b\n",
        "    return cls(a, b, res)\n",
        "\n",
        "  @staticmethod\n",
        "  def subtract(x,y):\n",
        "    return x-y\n",
        "\n",
        "obj = MathOperations.add(10, 5)\n",
        "print(obj.res)\n",
        "print(obj.subtract(15,10))"
      ],
      "metadata": {
        "colab": {
          "base_uri": "https://localhost:8080/"
        },
        "id": "Did7iqDCn5D7",
        "outputId": "2259d9f7-7716-4725-ef36-2ad67be4ece5"
      },
      "execution_count": null,
      "outputs": [
        {
          "output_type": "stream",
          "name": "stdout",
          "text": [
            "15\n",
            "5\n"
          ]
        }
      ]
    },
    {
      "cell_type": "code",
      "source": [
        "#8. Implement a class Person with a class method to count the total number of persons created.\n",
        "class Person:\n",
        "  total_persons=0\n",
        "  def __init__(self,name):\n",
        "    self.name=name\n",
        "    Person.total_persons+=1\n",
        "\n",
        "  @classmethod\n",
        "  def get_total_person(cls):\n",
        "    return cls.total_persons\n",
        "\n",
        "print(Person.get_total_person())\n",
        "obj1=Person(\"Ajay\")\n",
        "print(obj1.name)\n",
        "print(Person.get_total_person())\n",
        "obj2=Person(\"Vijay\")\n",
        "print(obj2.name)\n",
        "print(Person.get_total_person())"
      ],
      "metadata": {
        "colab": {
          "base_uri": "https://localhost:8080/"
        },
        "id": "3w_z-yM3rLZG",
        "outputId": "9670dc58-489e-4251-dcb2-c95210f86e17"
      },
      "execution_count": null,
      "outputs": [
        {
          "output_type": "stream",
          "name": "stdout",
          "text": [
            "0\n",
            "Ajay\n",
            "1\n",
            "Vijay\n",
            "2\n"
          ]
        }
      ]
    },
    {
      "cell_type": "code",
      "source": [
        "#9. Write a class Fraction with attributes numerator and denominator. Override the str method to display the fraction as \"numerator/denominator\".\n",
        "class Fraction:\n",
        "  def __init__(self,numerator,denominator):\n",
        "    self.numerator=numerator\n",
        "    self.denominator=denominator\n",
        "\n",
        "  def __str__(self):\n",
        "    return f\"{self.numerator}/{self.denominator}\"\n",
        "\n",
        "f1=Fraction(3,4)\n",
        "print(f1)"
      ],
      "metadata": {
        "id": "seboxdKTvQJ7",
        "colab": {
          "base_uri": "https://localhost:8080/"
        },
        "outputId": "2eab074e-a364-4d3d-edf1-8214a167d0e4"
      },
      "execution_count": null,
      "outputs": [
        {
          "output_type": "stream",
          "name": "stdout",
          "text": [
            "3/4\n"
          ]
        }
      ]
    },
    {
      "cell_type": "code",
      "source": [
        "#10. Demonstrate operator overloading by creating a class Vector and overriding the add method to add two vectors.\n",
        "class Vector:\n",
        "  def __init__(self,x,y):\n",
        "    self.x=x\n",
        "    self.y=y\n",
        "\n",
        "  def __add__(self,other):\n",
        "    return Vector(self.x+other.x,self.y+other.y)\n",
        "\n",
        "  def __str__(self):\n",
        "    return f\"{self.x},{self.y}\"\n",
        "\n",
        "v1=Vector(1,2)\n",
        "v2=Vector(3,4)\n",
        "v3=v1+v2\n",
        "print(v3)"
      ],
      "metadata": {
        "id": "VMCSo87j-0Cq",
        "colab": {
          "base_uri": "https://localhost:8080/"
        },
        "outputId": "20191c12-bb70-4a56-a0cf-42ab1b35afd1"
      },
      "execution_count": 1,
      "outputs": [
        {
          "output_type": "stream",
          "name": "stdout",
          "text": [
            "4,6\n"
          ]
        }
      ]
    },
    {
      "cell_type": "code",
      "source": [
        "#11. Create a class Person with attributes name and age. Add a method greet() that prints \"Hello, my name is {name} and I am {age} years old.\"\n",
        "class Person:\n",
        "  def __init__(self,name,age):\n",
        "    self.name=name\n",
        "    self.age=age\n",
        "\n",
        "  def greet(self):\n",
        "    print(f\"Hello, my name is {self.name} and I am {self.age} years old.\")\n",
        "\n",
        "p1=Person(\"Srushti\",23)\n",
        "p1.greet()"
      ],
      "metadata": {
        "colab": {
          "base_uri": "https://localhost:8080/"
        },
        "id": "bvrdx-VqTLi2",
        "outputId": "5f83bc89-abf1-44a7-e86b-0d6b83b76a7d"
      },
      "execution_count": 8,
      "outputs": [
        {
          "output_type": "stream",
          "name": "stdout",
          "text": [
            "Hello, my name is Srushti and I am 23 years old.\n"
          ]
        }
      ]
    },
    {
      "cell_type": "code",
      "source": [
        "#12. Implement a class Student with attributes name and grades. Create a method average_grade() to compute the average of the grades.\n",
        "class Student:\n",
        "  def __init__(self,name,grades):\n",
        "    self.name=name\n",
        "    self.grades=grades if isinstance(grades,list) else []\n",
        "\n",
        "\n",
        "  def average_grade(self):\n",
        "    result=0\n",
        "    for i in self.grades:\n",
        "      if isinstance(i,int) or isinstance(i,float):\n",
        "        result=result+i\n",
        "    return result/len(self.grades)\n",
        "\n",
        "s1=Student(\"Srushti\",[10,20,30])\n",
        "print(\"The average grade is\",s1.average_grade())"
      ],
      "metadata": {
        "colab": {
          "base_uri": "https://localhost:8080/"
        },
        "id": "Ivun5AmvZXQV",
        "outputId": "2c873967-4f9f-4e9d-ce47-2f6544cbd07d"
      },
      "execution_count": 10,
      "outputs": [
        {
          "output_type": "stream",
          "name": "stdout",
          "text": [
            "The average grade is 20.0\n"
          ]
        }
      ]
    },
    {
      "cell_type": "code",
      "source": [
        "#13. Create a class Rectangle with methods set_dimensions() to set the dimensions and area() to calculate the area\n",
        "class Rectangle:\n",
        "  def __init__(self,length,width):\n",
        "    self.__length=length\n",
        "    self.__width=width\n",
        "\n",
        "  @property\n",
        "  def set_dimension(self):\n",
        "    return self.__length,self.__width\n",
        "\n",
        "  @set_dimension.setter\n",
        "  def set_dimension(self, dimensions):\n",
        "    value1, value2 = dimensions\n",
        "    if value1 <= 0 or value2 <=0:\n",
        "      raise ValueError(\"The dimensions must be positive.\")\n",
        "    self.__length = value1\n",
        "    self.__width = value2\n",
        "\n",
        "  def area(self):\n",
        "    return self.__length * self.__width\n",
        "\n",
        "\n",
        "rectangle=Rectangle(10,20)\n",
        "print(rectangle.set_dimension)\n",
        "rectangle.set_dimension=(10, 30)\n",
        "print(rectangle.area())"
      ],
      "metadata": {
        "colab": {
          "base_uri": "https://localhost:8080/"
        },
        "id": "aThmqk34ipuZ",
        "outputId": "97789bcd-7a5d-4c06-eec8-81baaa56c56a"
      },
      "execution_count": 20,
      "outputs": [
        {
          "output_type": "stream",
          "name": "stdout",
          "text": [
            "(10, 20)\n",
            "300\n"
          ]
        }
      ]
    },
    {
      "cell_type": "code",
      "source": [
        "#14. Create a class Employee with a method calculate_salary() that computes the salary based on hours worked and hourly rate. Create a derived class Manager that adds a bonus to the salary.\n",
        "class Employee:\n",
        "  def __init__(self,name,hours_worked,hourly_rate):\n",
        "    self.name=name\n",
        "    self.hours_worked=hours_worked\n",
        "    self.hourly_rate=hourly_rate\n",
        "\n",
        "  def calculate_salary(self):\n",
        "    return self.hours_worked*self.hourly_rate\n",
        "\n",
        "class Manager(Employee):\n",
        "  def __init__(self,name,hours_worked,hourly_rate,bonus):\n",
        "    super().__init__(name,hours_worked,hourly_rate)\n",
        "    self.bonus=bonus\n",
        "\n",
        "  def total_self(self):\n",
        "    return self.calculate_salary()+self.bonus\n",
        "\n",
        "emp=Manager(\"Srushti\",100,1000,10000)\n",
        "print(emp.total_self())"
      ],
      "metadata": {
        "colab": {
          "base_uri": "https://localhost:8080/"
        },
        "id": "mJyNBW44p128",
        "outputId": "07cd686a-873d-4c9d-bff3-bfb9c5654f67"
      },
      "execution_count": 21,
      "outputs": [
        {
          "output_type": "stream",
          "name": "stdout",
          "text": [
            "110000\n"
          ]
        }
      ]
    },
    {
      "cell_type": "code",
      "source": [
        "#15. Create a class Product with attributes name, price, and quantity. Implement a method total_price() that calculates the total price of the product.\n",
        "class Product:\n",
        "  def __init__(self,name,price,quantity):\n",
        "    self.name=name\n",
        "    self.price=price\n",
        "    self.quantity=quantity\n",
        "\n",
        "  def total_price(self):\n",
        "    return self.price*self.quantity\n",
        "\n",
        "p1=Product(\"Pen\",10,100)\n",
        "print(p1.total_price())"
      ],
      "metadata": {
        "colab": {
          "base_uri": "https://localhost:8080/"
        },
        "id": "8GLP8IK5uSyp",
        "outputId": "e3380ade-7b51-453d-a180-911e50560579"
      },
      "execution_count": 22,
      "outputs": [
        {
          "output_type": "stream",
          "name": "stdout",
          "text": [
            "1000\n"
          ]
        }
      ]
    },
    {
      "cell_type": "code",
      "source": [
        "#16. Create a class Animal with an abstract method sound(). Create two derived classes Cow and Sheep that implement the sound() method.\n",
        "from abc import ABC, abstractmethod\n",
        "class Animal:\n",
        "  @abstractmethod\n",
        "  def sound(self):\n",
        "    pass\n",
        "\n",
        "class Cow(Animal):\n",
        "  def sound(self):\n",
        "    print(\"Moo\")\n",
        "\n",
        "class Sheep(Animal):\n",
        "  def sound(self):\n",
        "    print(\"Bleat\")\n",
        "\n",
        "cow=Cow()\n",
        "cow.sound()\n",
        "\n",
        "sheep=Sheep()\n",
        "sheep.sound()"
      ],
      "metadata": {
        "colab": {
          "base_uri": "https://localhost:8080/"
        },
        "id": "Mgo5YHAKzaYK",
        "outputId": "e9620e84-1c93-4f55-e900-a82955a924b7"
      },
      "execution_count": 24,
      "outputs": [
        {
          "output_type": "stream",
          "name": "stdout",
          "text": [
            "Moo\n",
            "Bleat\n"
          ]
        }
      ]
    },
    {
      "cell_type": "code",
      "source": [
        "#17. Create a class Book with attributes title, author, and year_published. Add a method get_book_info() that returns a formatted string with the book's details.\n",
        "class Book:\n",
        "  def __init__(self,title,author,year_published):\n",
        "    self.title=title\n",
        "    self.author=author\n",
        "    self.year_published=year_published\n",
        "\n",
        "  def get_book_info(self):\n",
        "    return f\"{self.title} was written by {self.author} and published at year {self.year_published}\"\n",
        "\n",
        "b1=Book(\"The Alchemist\",\"Paulo Coelho\",1988)\n",
        "print(b1.get_book_info())"
      ],
      "metadata": {
        "colab": {
          "base_uri": "https://localhost:8080/"
        },
        "id": "aZy1aI0r1Tss",
        "outputId": "1d6f6272-9710-430a-ce6a-3c03f891fb09"
      },
      "execution_count": 25,
      "outputs": [
        {
          "output_type": "stream",
          "name": "stdout",
          "text": [
            "The Alchemist was written by Paulo Coelho and published at year 1988\n"
          ]
        }
      ]
    },
    {
      "cell_type": "code",
      "source": [
        "#18. Create a class House with attributes address and price. Create a derived class Mansion that adds an attribute number_of_rooms.\n",
        "class House:\n",
        "  def __init__(self,address,price):\n",
        "    self.address=address\n",
        "    self.price=price\n",
        "\n",
        "  def get_house_info(self):\n",
        "    return f\"Address: {self.address} , Price: {self.price}\"\n",
        "\n",
        "class Mansion(House):\n",
        "  def __init__(self, address, price,no_of_rooms):\n",
        "    super().__init__(address, price)\n",
        "    self.no_of_rooms=no_of_rooms\n",
        "\n",
        "  def get_mansion_info(self):\n",
        "    base_info=self.get_house_info()\n",
        "    return f\"{base_info}, No of rooms: {self.no_of_rooms}\"\n",
        "\n",
        "mansion=Mansion(\"Pune\",1000000,10)\n",
        "print(mansion.get_mansion_info())"
      ],
      "metadata": {
        "colab": {
          "base_uri": "https://localhost:8080/"
        },
        "id": "Jn_fHzNv30zJ",
        "outputId": "eaddb04f-aa08-4945-fe86-44246f16c55f"
      },
      "execution_count": 31,
      "outputs": [
        {
          "output_type": "stream",
          "name": "stdout",
          "text": [
            "Address: Pune , Price: 1000000, No of rooms: 10\n"
          ]
        }
      ]
    }
  ]
}